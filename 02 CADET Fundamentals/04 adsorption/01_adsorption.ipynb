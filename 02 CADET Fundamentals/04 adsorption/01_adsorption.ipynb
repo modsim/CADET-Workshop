{
 "cells": [
  {
   "cell_type": "markdown",
   "id": "c5ee6b81",
   "metadata": {},
   "source": [
    "# Adsorption models\n",
    "\n",
    "At the core of chromatographic processes are interactions between the components we want to separate and a stationary\n",
    "phase.\n",
    "\n",
    "These components can be: atoms, ions or molecules of a gas, liquid or dissolved solids."
   ]
  },
  {
   "cell_type": "markdown",
   "id": "1768e57b",
   "metadata": {
    "slideshow": {
     "slide_type": "slide"
    }
   },
   "source": [
    "## Isotherms\n",
    "\n",
    "These interactions can often be described in terms of an isotherm:\n",
    "\n",
    "```{note}\n",
    "\n",
    "**Isotherm:**\n",
    "An equation that describes how much of a component is __bound__ to the stationary phase or __solved__ in the mobile phase.\n",
    "\n",
    "Valid for a constant _temperature_ (iso - _therm_).\n",
    "\n",
    "```"
   ]
  },
  {
   "cell_type": "markdown",
   "id": "200778f4",
   "metadata": {
    "slideshow": {
     "slide_type": "fragment"
    }
   },
   "source": [
    "```{figure} ./resources/isotherm.png\n",
    ":width: 50%\n",
    ":align: center\n",
    "```"
   ]
  },
  {
   "cell_type": "markdown",
   "id": "87631723",
   "metadata": {
    "slideshow": {
     "slide_type": "slide"
    }
   },
   "source": [
    "In CADET, many different models for adsorption are implemented.\n",
    "All of the models can be modelled kinetically or in rapid equilibrium.\n",
    "Moreover, many of them include features such as competitive effects, multi state binding, or a mobile phase modifier."
   ]
  },
  {
   "cell_type": "markdown",
   "id": "2314fa47",
   "metadata": {
    "slideshow": {
     "slide_type": "fragment"
    }
   },
   "source": [
    "```{figure} ./resources/isotherm_models.png\n",
    ":width: 100%\n",
    ":align: center\n",
    "```"
   ]
  },
  {
   "cell_type": "markdown",
   "id": "ab025b90",
   "metadata": {
    "slideshow": {
     "slide_type": "fragment"
    }
   },
   "source": [
    "**In this lesson,** we will:\n",
    "\n",
    "- Learn about different adsorption models.\n",
    "- Associate adsorption models with different unit operations."
   ]
  },
  {
   "cell_type": "markdown",
   "id": "38c2ef69",
   "metadata": {
    "slideshow": {
     "slide_type": "slide"
    }
   },
   "source": [
    "## Example 1: Linear model\n",
    "\n",
    "The simplest model for adsorption is the [linear model](https://cadet.github.io/master/modelling/binding/linear.html).\n",
    "\n",
    "Analogously to Henry's law, it describes a linear correlation between the solved concentration and the bound\n",
    "concentration of the component."
   ]
  },
  {
   "cell_type": "markdown",
   "id": "39a033f9",
   "metadata": {
    "slideshow": {
     "slide_type": "fragment"
    }
   },
   "source": [
    "Let us consider a shaking flask experiment in a `CSTR` (without ingoing or outgoing streams).\n",
    "In it, we add some porous material s.t.\n",
    "\n",
    "- the overal porosity is $0.5$.\n",
    "- the volume is $1~L$\n",
    "\n",
    "Then, we add a solution of a component with a concentration of $1~mol \\cdot L^{-1}$.\n",
    "\n",
    "Let us first create a `ComponentSystem` and a `Linear` `BindingModel`."
   ]
  },
  {
   "cell_type": "code",
   "execution_count": null,
   "id": "fd04b987",
   "metadata": {
    "tags": [
     "solution"
    ]
   },
   "outputs": [],
   "source": [
    "from CADETProcess.processModel import ComponentSystem\n",
    "\n",
    "component_system = ComponentSystem(1)"
   ]
  },
  {
   "cell_type": "code",
   "execution_count": null,
   "id": "8ddc8e2a",
   "metadata": {
    "tags": [
     "solution"
    ]
   },
   "outputs": [],
   "source": [
    "from CADETProcess.processModel import Linear\n",
    "\n",
    "binding_model = Linear(component_system, name=\"linear\")\n",
    "binding_model.parameters\n",
    "binding_model.is_kinetic = True\n",
    "binding_model.adsorption_rate = [2]\n",
    "binding_model.desorption_rate = [1]"
   ]
  },
  {
   "cell_type": "markdown",
   "id": "8e39baa5",
   "metadata": {
    "slideshow": {
     "slide_type": "slide"
    }
   },
   "source": [
    "Now create the UnitOperation `Cstr` with a porosity of 0.5 and a volume of 1 L."
   ]
  },
  {
   "cell_type": "code",
   "execution_count": null,
   "id": "cbaf5725",
   "metadata": {
    "tags": [
     "solution"
    ]
   },
   "outputs": [],
   "source": [
    "import numpy as np\n",
    "from CADETProcess.processModel import  Cstr\n",
    "\n",
    "reactor = Cstr(component_system, name='reactor')\n",
    "reactor.binding_model = binding_model\n",
    "\n",
    "reactor.porosity = 0.5\n",
    "reactor.V = 1e-3"
   ]
  },
  {
   "cell_type": "markdown",
   "id": "4f5bb45f",
   "metadata": {
    "slideshow": {
     "slide_type": "fragment"
    }
   },
   "source": [
    "Let's also initialize our `Cstr` with a component concentration of $1~mol \\cdot L^{-1}$."
   ]
  },
  {
   "cell_type": "code",
   "execution_count": null,
   "id": "1358a438",
   "metadata": {
    "tags": [
     "solution"
    ]
   },
   "outputs": [],
   "source": [
    "reactor.c = [1]"
   ]
  },
  {
   "cell_type": "markdown",
   "id": "01ff5fae",
   "metadata": {
    "slideshow": {
     "slide_type": "fragment"
    }
   },
   "source": [
    "We care about the concentration of our component in the solid and bulk liquid phase, so let's tell the reactor to write\n",
    "down those concentrations."
   ]
  },
  {
   "cell_type": "code",
   "execution_count": null,
   "id": "cc575f5d",
   "metadata": {
    "tags": [
     "solution"
    ]
   },
   "outputs": [],
   "source": [
    "reactor.solution_recorder.write_solution_bulk = True\n",
    "reactor.solution_recorder.write_solution_solid = True"
   ]
  },
  {
   "cell_type": "markdown",
   "id": "af033edc",
   "metadata": {
    "slideshow": {
     "slide_type": "slide"
    }
   },
   "source": [
    "Now, create a `FlowSheet` and a `Process` and a `simulator`"
   ]
  },
  {
   "cell_type": "code",
   "execution_count": null,
   "id": "1608bc53",
   "metadata": {
    "tags": [
     "solution"
    ]
   },
   "outputs": [],
   "source": [
    "from CADETProcess.processModel import FlowSheet\n",
    "\n",
    "flow_sheet = FlowSheet(component_system)\n",
    "\n",
    "flow_sheet.add_unit(reactor)"
   ]
  },
  {
   "cell_type": "code",
   "execution_count": null,
   "id": "44810c7e",
   "metadata": {
    "tags": [
     "solution"
    ]
   },
   "outputs": [],
   "source": [
    "from CADETProcess.processModel import Process\n",
    "\n",
    "process = Process(flow_sheet, 'process')\n",
    "process.cycle_time = 10"
   ]
  },
  {
   "cell_type": "code",
   "execution_count": null,
   "id": "ff0623b7",
   "metadata": {
    "tags": [
     "solution"
    ]
   },
   "outputs": [],
   "source": [
    "from CADETProcess.simulator import Cadet\n",
    "simulator = Cadet()\n",
    "sim_results = simulator.run(process)\n",
    "\n",
    "# _ = sim_results.solution.reactor.bulk.plot()\n",
    "_ = sim_results.solution.reactor.outlet.plot()\n",
    "_ = sim_results.solution.reactor.solid.plot()"
   ]
  },
  {
   "cell_type": "markdown",
   "id": "207525f8",
   "metadata": {
    "slideshow": {
     "slide_type": "slide"
    }
   },
   "source": [
    "### A note on resolution\n",
    "\n",
    "As can be seen in the figure abore, the time resolution is not sufficiently high.\n",
    "By default, CADET-Process stores 1 sample per second.\n",
    "To increase the resolution, set the `time_resolution` parameter of the `Simulator`."
   ]
  },
  {
   "cell_type": "code",
   "execution_count": null,
   "id": "b9eb30f3",
   "metadata": {
    "tags": [
     "solution"
    ]
   },
   "outputs": [],
   "source": [
    "simulator.time_resolution = 0.1"
   ]
  },
  {
   "cell_type": "markdown",
   "id": "817d86ca",
   "metadata": {
    "slideshow": {
     "slide_type": "fragment"
    }
   },
   "source": [
    "Now, the solution looks much smoother."
   ]
  },
  {
   "cell_type": "code",
   "execution_count": null,
   "id": "5aaa2f36",
   "metadata": {
    "tags": [
     "solution"
    ]
   },
   "outputs": [],
   "source": [
    "sim_results = simulator.run(process)\n",
    "\n",
    "# _ = sim_results.solution.reactor.bulk.plot()\n",
    "_ = sim_results.solution.reactor.outlet.plot()\n",
    "_ = sim_results.solution.reactor.solid.plot()"
   ]
  },
  {
   "cell_type": "markdown",
   "id": "89173917",
   "metadata": {
    "slideshow": {
     "slide_type": "slide"
    }
   },
   "source": [
    "## Example 2: Linear adsorption model with linear concentration gradient\n",
    "\n",
    "To plot the solid phase concentration as a function of the bulk concentration, we can introduce a linear concentration\n",
    "gradient to the `CSTR` that has an initial concentration of $0~mM$."
   ]
  },
  {
   "cell_type": "code",
   "execution_count": null,
   "id": "7b1e7493",
   "metadata": {
    "tags": [
     "solution"
    ]
   },
   "outputs": [],
   "source": [
    "from CADETProcess.processModel import ComponentSystem\n",
    "\n",
    "component_system = ComponentSystem(2)"
   ]
  },
  {
   "cell_type": "code",
   "execution_count": null,
   "id": "9c35044b",
   "metadata": {
    "tags": [
     "solution"
    ]
   },
   "outputs": [],
   "source": [
    "from CADETProcess.processModel import Linear\n",
    "\n",
    "binding_model = Linear(component_system, name='linear')\n",
    "binding_model.is_kinetic = False\n",
    "binding_model.adsorption_rate = [3, 2]\n",
    "binding_model.desorption_rate = [1, 1]"
   ]
  },
  {
   "cell_type": "code",
   "execution_count": null,
   "id": "759117c8",
   "metadata": {
    "tags": [
     "solution"
    ]
   },
   "outputs": [],
   "source": [
    "from CADETProcess.processModel import Inlet, Cstr\n",
    "\n",
    "inlet = Inlet(component_system, name='inlet')\n",
    "inlet.c = [[0, 1, 0, 0], [0, 1, 0, 0]]\n",
    "inlet.flow_rate = 1e-3\n",
    "\n",
    "reactor = Cstr(component_system, name='reactor')\n",
    "reactor.binding_model = binding_model\n",
    "\n",
    "reactor.porosity = 0.5\n",
    "reactor.V = 1e-3\n",
    "reactor.c = [0.0, 0.0]\n",
    "reactor.q = [0.0, 0.0]  # optional\n",
    "\n",
    "reactor.solution_recorder.write_solution_bulk = True\n",
    "reactor.solution_recorder.write_solution_solid = True"
   ]
  },
  {
   "cell_type": "code",
   "execution_count": null,
   "id": "631f3054",
   "metadata": {
    "tags": [
     "solution"
    ]
   },
   "outputs": [],
   "source": [
    "from CADETProcess.processModel import FlowSheet\n",
    "\n",
    "flow_sheet = FlowSheet(component_system)\n",
    "\n",
    "flow_sheet.add_unit(reactor)\n",
    "flow_sheet.add_unit(inlet)\n",
    "\n",
    "flow_sheet.add_connection(inlet, reactor)"
   ]
  },
  {
   "cell_type": "code",
   "execution_count": null,
   "id": "32001ab7",
   "metadata": {
    "tags": [
     "solution"
    ]
   },
   "outputs": [],
   "source": [
    "from CADETProcess.processModel import Process\n",
    "\n",
    "process = Process(flow_sheet, 'process')\n",
    "process.cycle_time = 10"
   ]
  },
  {
   "cell_type": "code",
   "execution_count": null,
   "id": "0d8a1648",
   "metadata": {
    "tags": [
     "solution"
    ]
   },
   "outputs": [],
   "source": [
    "from CADETProcess.simulator import Cadet\n",
    "simulator = Cadet()\n",
    "sim_results = simulator.run(process)\n",
    "\n",
    "# _ = sim_results.solution.reactor.bulk.plot()\n",
    "_ = sim_results.solution.reactor.outlet.plot()"
   ]
  },
  {
   "cell_type": "code",
   "execution_count": null,
   "id": "854ea664",
   "metadata": {
    "tags": [
     "solution"
    ]
   },
   "outputs": [],
   "source": [
    "# solution_bulk = sim_results.solution.reactor.bulk.solution\n",
    "solution_bulk = sim_results.solution.reactor.outlet.solution\n",
    "solution_solid = sim_results.solution.reactor.solid.solution\n",
    "\n",
    "import matplotlib.pyplot as plt\n",
    "fig, ax = plt.subplots()\n",
    "ax.plot(solution_bulk, solution_solid)\n",
    "ax.set_title('Isotherm')\n",
    "ax.set_xlabel('$c_{bulk}$')\n",
    "ax.set_ylabel('$c_{solid}$')"
   ]
  },
  {
   "cell_type": "markdown",
   "id": "82e735c8",
   "metadata": {
    "slideshow": {
     "slide_type": "slide"
    }
   },
   "source": [
    "## Example 3: Multi component Langmuir model\n",
    "\n",
    "Usually, the linear isotherm can only be assumed for very low solute concentrations.\n",
    "At higher, higher concentrations the limited number of available binding sites on the surface of the adsorbent also\n",
    "needs to be considered which\n",
    "the [Langmuir equation](https://cadet.github.io/master/modelling/binding/multi_component_langmuir.html) takes into\n",
    "account.\n",
    "\n",
    "$$q = q_{sat} \\cdot \\frac{b \\cdot c}{1 + b \\cdot c} = \\frac{a \\cdot c}{1 + b \\cdot c}$$\n",
    "\n",
    "***with:***\n",
    "\n",
    "- $q_{Sat}$ = saturation loading\n",
    "- $b$ = equilibrium factor"
   ]
  },
  {
   "cell_type": "markdown",
   "id": "f33fdcb7",
   "metadata": {
    "slideshow": {
     "slide_type": "fragment"
    }
   },
   "source": [
    "***Assumptions:***\n",
    "\n",
    "- All of the adsorption sites are equivalent, and each site can only accommodate one molecule\n",
    "- The surface is energetically homogeneous\n",
    "- Adsorbed molecules do not interact\n",
    "- There are no phase transitions\n",
    "- At the maximum adsorption, only a monolayer is formed\n",
    "\n",
    "For this example, we will introduce a concentration step to the `CSTR`.\n",
    "We consider two components, both with an inital concentration of $0~mM$, but with different binding strengths."
   ]
  },
  {
   "cell_type": "markdown",
   "id": "e2d965bc",
   "metadata": {
    "slideshow": {
     "slide_type": "slide"
    }
   },
   "source": [
    "To start: create a `ComponentSystem`"
   ]
  },
  {
   "cell_type": "code",
   "execution_count": null,
   "id": "4e6da142",
   "metadata": {
    "tags": [
     "solution"
    ]
   },
   "outputs": [],
   "source": [
    "from CADETProcess.processModel import ComponentSystem\n",
    "\n",
    "component_system = ComponentSystem(2)"
   ]
  },
  {
   "cell_type": "code",
   "execution_count": null,
   "id": "c971b9c8",
   "metadata": {
    "tags": [
     "solution"
    ]
   },
   "outputs": [],
   "source": [
    "from CADETProcess.processModel import Langmuir\n",
    "\n",
    "binding_model = Langmuir(component_system, name='langmuir')\n",
    "binding_model.is_kinetic = False\n",
    "binding_model.adsorption_rate = [3,1]\n",
    "binding_model.desorption_rate = [1,1]\n",
    "binding_model.capacity = [1,1]"
   ]
  },
  {
   "cell_type": "markdown",
   "id": "86eac9c2",
   "metadata": {
    "slideshow": {
     "slide_type": "fragment"
    }
   },
   "source": [
    "Set up the `processModel`"
   ]
  },
  {
   "cell_type": "code",
   "execution_count": null,
   "id": "dcee53e2",
   "metadata": {
    "tags": [
     "solution"
    ]
   },
   "outputs": [],
   "source": [
    "from CADETProcess.processModel import Inlet, Outlet, Cstr\n",
    "\n",
    "inlet = Inlet(component_system, name='inlet')\n",
    "inlet.c = [1,1]\n",
    "inlet.flow_rate = 1e-3\n",
    "\n",
    "reactor = Cstr(component_system, name='reactor')\n",
    "reactor.binding_model = binding_model\n",
    "\n",
    "reactor.V = 1e-3\n",
    "reactor.porosity = 0.5\n",
    "reactor.c = [0.0, 0.0]\n",
    "reactor.q = [0.0, 0.0]  # optional\n",
    "\n",
    "reactor.solution_recorder.write_solution_bulk = True\n",
    "reactor.solution_recorder.write_solution_solid = True"
   ]
  },
  {
   "cell_type": "markdown",
   "id": "ce01d96f",
   "metadata": {
    "slideshow": {
     "slide_type": "fragment"
    }
   },
   "source": [
    "Set up the `FlowSheet`"
   ]
  },
  {
   "cell_type": "code",
   "execution_count": null,
   "id": "2e1a4a23",
   "metadata": {
    "tags": [
     "solution"
    ]
   },
   "outputs": [],
   "source": [
    "from CADETProcess.processModel import FlowSheet\n",
    "\n",
    "flow_sheet = FlowSheet(component_system)\n",
    "\n",
    "flow_sheet.add_unit(reactor)\n",
    "flow_sheet.add_unit(inlet)\n",
    "\n",
    "flow_sheet.add_connection(inlet,reactor)"
   ]
  },
  {
   "cell_type": "markdown",
   "id": "893b503f",
   "metadata": {
    "slideshow": {
     "slide_type": "fragment"
    }
   },
   "source": [
    "Create a `Process`"
   ]
  },
  {
   "cell_type": "code",
   "execution_count": null,
   "id": "4113525e",
   "metadata": {
    "tags": [
     "solution"
    ]
   },
   "outputs": [],
   "source": [
    "from CADETProcess.processModel import Process\n",
    "\n",
    "process = Process(flow_sheet, 'process')\n",
    "process.cycle_time = 10"
   ]
  },
  {
   "cell_type": "markdown",
   "id": "2dad2a3f",
   "metadata": {
    "slideshow": {
     "slide_type": "fragment"
    }
   },
   "source": [
    "Create a `Simulator` and simulate"
   ]
  },
  {
   "cell_type": "code",
   "execution_count": null,
   "id": "22ddc521",
   "metadata": {
    "tags": [
     "solution"
    ]
   },
   "outputs": [],
   "source": [
    "from CADETProcess.simulator import Cadet\n",
    "\n",
    "simulator = Cadet()\n",
    "simulator.time_resolution = 0.01\n",
    "\n",
    "sim_results = simulator.run(process)\n",
    "\n",
    "# _ = sim_results.solution.reactor.bulk.plot()\n",
    "_ = sim_results.solution.reactor.outlet.plot()"
   ]
  },
  {
   "cell_type": "markdown",
   "id": "5ecc8a10",
   "metadata": {
    "slideshow": {
     "slide_type": "fragment"
    }
   },
   "source": [
    "Plot the solutions"
   ]
  },
  {
   "cell_type": "code",
   "execution_count": null,
   "id": "6a4fc090",
   "metadata": {
    "tags": [
     "solution"
    ]
   },
   "outputs": [],
   "source": [
    "# solution_bulk = sim_results.solution.reactor.bulk.solution\n",
    "solution_bulk = sim_results.solution.reactor.outlet.solution\n",
    "solution_solid = sim_results.solution.reactor.solid.solution\n",
    "\n",
    "import matplotlib.pyplot as plt\n",
    "fig, ax = plt.subplots()\n",
    "ax.plot(solution_bulk, solution_solid)\n",
    "ax.legend([\"Component A\", \"Component B\"])\n",
    "ax.set_title('Isotherm')\n",
    "ax.set_xlabel('$c_{liquid}$')\n",
    "ax.set_ylabel('$c_{solid}$')\n",
    "plt.tight_layout()"
   ]
  }
 ],
 "metadata": {
  "jupytext": {
   "formats": "ipynb,md:myst"
  },
  "kernelspec": {
   "display_name": "Python 3 (ipykernel)",
   "language": "python",
   "name": "python3"
  }
 },
 "nbformat": 4,
 "nbformat_minor": 5
}
