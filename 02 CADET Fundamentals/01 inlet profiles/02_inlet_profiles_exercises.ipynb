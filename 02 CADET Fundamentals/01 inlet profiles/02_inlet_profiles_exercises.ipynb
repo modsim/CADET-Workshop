{
 "cells": [
  {
   "cell_type": "markdown",
   "id": "e31fcb21",
   "metadata": {
    "slideshow": {
     "slide_type": "slide"
    },
    "user_expressions": []
   },
   "source": [
    "# Inlet Profiles - Exercise"
   ]
  },
  {
   "cell_type": "markdown",
   "id": "5121f218",
   "metadata": {
    "user_expressions": []
   },
   "source": [
    "## Exercise 1\n",
    "\n",
    "Create the following flow profile:\n",
    "\n",
    "```{figure} ./resources/2_comp.png\n",
    ":width: 50%\n",
    ":align: center\n",
    "```\n",
    "Assume a flow rate of $Q = 1\\cdot mL\\cdot min^{-1}$\n",
    "\n",
    "***Hint:*** We need to specify a second component for the template function and then pass a list of to the concentration parameter."
   ]
  },
  {
   "cell_type": "code",
   "execution_count": null,
   "id": "9a70c8f7",
   "metadata": {
    "tags": [
     "solution"
    ]
   },
   "outputs": [],
   "source": []
  },
  {
   "cell_type": "markdown",
   "id": "f9b144f1",
   "metadata": {
    "slideshow": {
     "slide_type": "slide"
    },
    "user_expressions": []
   },
   "source": [
    "## Exercise 2\n",
    "\n",
    "Create the following inlet profile:\n",
    "\n",
    "```{figure} ./resources/gradient.png\n",
    ":width: 50%\n",
    ":align: center\n",
    "```\n",
    "\n",
    "Assume a flow rate of $Q = 1\\cdot mL\\cdot min^{-1}$\n",
    "\n",
    "***Hint:*** We need three `Events` and for linear gradients, the concentration for each component needs to be passed as a list of cubic polynomial coefficients."
   ]
  },
  {
   "cell_type": "code",
   "execution_count": null,
   "id": "afb8b306",
   "metadata": {
    "tags": [
     "solution"
    ]
   },
   "outputs": [],
   "source": []
  },
  {
   "cell_type": "markdown",
   "id": "f6800909",
   "metadata": {
    "slideshow": {
     "slide_type": "slide"
    },
    "user_expressions": []
   },
   "source": [
    "## Bonus Exercise: Changing the system connectivity\n",
    "\n",
    "Instead of creating inlet profiles by modifying the concentration profile of a single `Inlet` unit operation, the same effect can also be achieved by assuming multiple `Inlets`, each with a constant concentration and changing the flow rates of the system.\n",
    "\n",
    "***Task:*** Creating a system with a second `Inlet` and recreate the previous examples."
   ]
  },
  {
   "cell_type": "markdown",
   "id": "19a4d337",
   "metadata": {
    "user_expressions": []
   },
   "source": [
    "### Example 1"
   ]
  },
  {
   "cell_type": "code",
   "execution_count": null,
   "id": "1f0379cc",
   "metadata": {
    "tags": [
     "solution"
    ]
   },
   "outputs": [],
   "source": []
  },
  {
   "cell_type": "markdown",
   "id": "07152216",
   "metadata": {
    "slideshow": {
     "slide_type": "slide"
    },
    "user_expressions": []
   },
   "source": [
    "### Example 2"
   ]
  },
  {
   "cell_type": "code",
   "execution_count": null,
   "id": "57b66d62",
   "metadata": {
    "tags": [
     "solution"
    ]
   },
   "outputs": [],
   "source": []
  }
 ],
 "metadata": {
  "kernelspec": {
   "display_name": "Python 3 (ipykernel)",
   "language": "python",
   "name": "python3"
  }
 },
 "nbformat": 4,
 "nbformat_minor": 5
}
