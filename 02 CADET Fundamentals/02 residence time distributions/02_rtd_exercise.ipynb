{
 "cells": [
  {
   "cell_type": "markdown",
   "id": "a435d032",
   "metadata": {},
   "source": [
    "# Residence Time Distribution - Exercises"
   ]
  },
  {
   "cell_type": "markdown",
   "id": "cc7b58a5",
   "metadata": {},
   "source": [
    "## Exercise 1: Step function in CSTR\n",
    "\n",
    "Analyze how the concentration profile of a `CSTR` reacts to a step function:\n",
    "```{figure} ./resources/step.png\n",
    ":width: 50%\n",
    ":align: center\n",
    "```\n",
    "\n",
    "```{figure} ./resources/RTD_CSTR.png\n",
    ":width: 50%\n",
    ":align: center\n",
    "```\n",
    "\n",
    "\n",
    "\n",
    "***Hint:*** Always check the input arguments of our model template functions."
   ]
  },
  {
   "cell_type": "code",
   "execution_count": null,
   "id": "234f848a",
   "metadata": {
    "tags": [
     "solution"
    ]
   },
   "outputs": [],
   "source": []
  },
  {
   "cell_type": "code",
   "execution_count": null,
   "id": "d4c03933",
   "metadata": {
    "tags": [
     "solution"
    ]
   },
   "outputs": [],
   "source": []
  },
  {
   "cell_type": "code",
   "execution_count": null,
   "id": "03e6b974",
   "metadata": {
    "tags": [
     "solution"
    ]
   },
   "outputs": [],
   "source": []
  },
  {
   "cell_type": "markdown",
   "id": "612a04f7",
   "metadata": {
    "slideshow": {
     "slide_type": "slide"
    }
   },
   "source": [
    "## Exercise 2: Step function in Tubular reactor\n",
    "\n",
    "**Task:** Also analyze the system behaviour of a Tubular reactor for different input profiles (see Exercise 1)."
   ]
  },
  {
   "cell_type": "code",
   "execution_count": null,
   "id": "4025bcf9",
   "metadata": {
    "tags": [
     "solution"
    ]
   },
   "outputs": [],
   "source": []
  },
  {
   "cell_type": "code",
   "execution_count": null,
   "id": "b47d7ea9",
   "metadata": {
    "tags": [
     "solution"
    ]
   },
   "outputs": [],
   "source": []
  },
  {
   "cell_type": "code",
   "execution_count": null,
   "id": "1e92cfab",
   "metadata": {
    "tags": [
     "solution"
    ]
   },
   "outputs": [],
   "source": []
  },
  {
   "cell_type": "markdown",
   "id": "65fddc20",
   "metadata": {
    "slideshow": {
     "slide_type": "slide"
    }
   },
   "source": [
    "## Bonus Exercise\n",
    "Many systems can be modelled by a chain of unit operations.\n",
    "\n",
    "```{figure} ./resources/system_chain.png\n",
    ":width: 50%\n",
    ":align: center\n",
    "```\n",
    "Try connecting combining both the CSTR with a Tubular reactor and analyze the behavior."
   ]
  },
  {
   "cell_type": "code",
   "execution_count": null,
   "id": "d9160b52",
   "metadata": {
    "tags": [
     "solution"
    ]
   },
   "outputs": [],
   "source": []
  }
 ],
 "metadata": {
  "jupytext": {
   "formats": "ipynb,md:myst"
  },
  "kernelspec": {
   "display_name": "Python 3 (ipykernel)",
   "language": "python",
   "name": "python3"
  }
 },
 "nbformat": 4,
 "nbformat_minor": 5
}
