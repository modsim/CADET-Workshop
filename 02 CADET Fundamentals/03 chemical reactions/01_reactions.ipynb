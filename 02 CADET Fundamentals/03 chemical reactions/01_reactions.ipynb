{
 "cells": [
  {
   "cell_type": "markdown",
   "id": "b48cc627",
   "metadata": {},
   "source": [
    "# Chemical Reactions\n",
    "\n",
    "$$\n",
    "\\require{mhchem}\n",
    "$$\n",
    "\n",
    "Since version 4, it is possible to model chemical reactions with CADET using mass action law type reactions (see [Reaction models](https://cadet.github.io/master/modelling/reactions.html#reaction-models)).\n",
    "The mass action law states that the speed of a reaction is proportional to the product of the concentrations of their reactants.\n",
    "\n",
    "In CADET-Process, a reaction module was implemented to facilitate the setup of these reactions.\n",
    "There are two different classes: the `MassActionLaw` which is used for bulk phase reactions, as well as `MassActionLawParticle` which is specifically designed to model reactions in particle pore phase.\n",
    "\n",
    "In this tutorial, we're going to learn how to setup:\n",
    "- Forward Reactions\n",
    "- Equilibrium Reactions"
   ]
  },
  {
   "cell_type": "markdown",
   "id": "a43ca590",
   "metadata": {
    "slideshow": {
     "slide_type": "slide"
    }
   },
   "source": [
    "## Forward Reactions\n",
    "As a simple example, consider the following system:\n",
    "\n",
    "$$\n",
    "\\ce{1 A ->[k_{AB}] 1 B}\n",
    "$$"
   ]
  },
  {
   "cell_type": "markdown",
   "id": "e81ee9cd",
   "metadata": {},
   "source": [
    "First, initiate a `ComponentSystem` with components `A` and `B`."
   ]
  },
  {
   "cell_type": "code",
   "execution_count": null,
   "id": "f1bce9f6",
   "metadata": {
    "tags": [
     "solution"
    ]
   },
   "outputs": [],
   "source": []
  },
  {
   "cell_type": "markdown",
   "id": "b0da8092",
   "metadata": {
    "slideshow": {
     "slide_type": "slide"
    }
   },
   "source": [
    "Then, configure the `MassActionLaw` reaction model.\n",
    "To instantiate it, pass the `ComponentSystem`.\n",
    "Then, add the reaction using the `add_reaction` method.\n",
    "The following arguments are expected:\n",
    "- indices: The indices of the components that take part in the reaction (useful for bigger systems)\n",
    "- stoichiometric coefficients in the order of the indices\n",
    "- forward reaction rate\n",
    "- backward reaction rate"
   ]
  },
  {
   "cell_type": "code",
   "execution_count": null,
   "id": "20f5ebd0",
   "metadata": {
    "tags": [
     "solution"
    ]
   },
   "outputs": [],
   "source": []
  },
  {
   "cell_type": "markdown",
   "id": "fdc5ad86",
   "metadata": {
    "slideshow": {
     "slide_type": "slide"
    }
   },
   "source": [
    "To demonstrate this reaction, a `Cstr` is instantiated and the reaction is added to the tank.\n",
    "Moreover, the initial conditions are set.\n",
    "In principle, the `Cstr` supports reactions in bulk and particle pore phase.\n",
    "Since the porosity is $1$ by default, only the bulk phase is considered."
   ]
  },
  {
   "cell_type": "code",
   "execution_count": null,
   "id": "97da2380",
   "metadata": {
    "tags": [
     "solution"
    ]
   },
   "outputs": [],
   "source": []
  },
  {
   "cell_type": "markdown",
   "id": "2e5c046c",
   "metadata": {
    "slideshow": {
     "slide_type": "slide"
    }
   },
   "source": [
    "Now, the reactor is added to a `FlowSheet` and a `Process` is set up.\n",
    "Here, the `FlowSheet` only consists of a single `Cstr`, and there are no `Events` in the process."
   ]
  },
  {
   "cell_type": "code",
   "execution_count": null,
   "id": "7ea94372",
   "metadata": {
    "tags": [
     "solution"
    ]
   },
   "outputs": [],
   "source": []
  },
  {
   "cell_type": "markdown",
   "id": "e0bef53b",
   "metadata": {
    "slideshow": {
     "slide_type": "slide"
    }
   },
   "source": [
    "After simulation, the results can be plotted:"
   ]
  },
  {
   "cell_type": "code",
   "execution_count": null,
   "id": "fb875f77",
   "metadata": {
    "tags": [
     "solution"
    ]
   },
   "outputs": [],
   "source": []
  },
  {
   "cell_type": "markdown",
   "id": "1a45cb5b",
   "metadata": {
    "slideshow": {
     "slide_type": "slide"
    }
   },
   "source": [
    "## Equilibrium Reactions\n",
    "It is also possible to consider equilibrium reactions where the product can react back to the educts.\n",
    "\n",
    "$$\n",
    "\\ce{ 2 A <=>[k_{AB}][k_{BA}] B}\n",
    "$$"
   ]
  },
  {
   "cell_type": "markdown",
   "id": "9aad0474",
   "metadata": {
    "slideshow": {
     "slide_type": "slide"
    }
   },
   "source": [
    "Here, the same units, flow sheet, and process are reused which were defined above."
   ]
  },
  {
   "cell_type": "code",
   "execution_count": null,
   "id": "f5362f96",
   "metadata": {
    "tags": [
     "solution"
    ]
   },
   "outputs": [],
   "source": []
  },
  {
   "cell_type": "markdown",
   "id": "0ead9662",
   "metadata": {
    "slideshow": {
     "slide_type": "slide"
    }
   },
   "source": [
    "After simulation, the results can be plotted:"
   ]
  },
  {
   "cell_type": "code",
   "execution_count": null,
   "id": "23450561",
   "metadata": {
    "tags": [
     "solution"
    ]
   },
   "outputs": [],
   "source": []
  }
 ],
 "metadata": {
  "jupytext": {
   "formats": "ipynb,md:myst"
  },
  "kernelspec": {
   "display_name": "Python 3 (ipykernel)",
   "language": "python",
   "name": "python3"
  }
 },
 "nbformat": 4,
 "nbformat_minor": 5
}
