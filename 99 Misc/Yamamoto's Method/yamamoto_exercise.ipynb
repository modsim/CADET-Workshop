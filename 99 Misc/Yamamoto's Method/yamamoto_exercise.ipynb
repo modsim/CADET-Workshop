{
 "cells": [
  {
   "cell_type": "markdown",
   "id": "54462b6a",
   "metadata": {},
   "source": [
    "## Exercise Yamamoto Method\n",
    "\n",
    "In this exercise the Yamamoto method will be applied and used as model parameter for the linear region of the steric mass action isotherm."
   ]
  },
  {
   "cell_type": "markdown",
   "id": "5467d90f",
   "metadata": {},
   "source": [
    "Import the data given in `./experiments/three_proteins` using the following helper function.\n",
    "Then, visualize the data."
   ]
  },
  {
   "cell_type": "code",
   "execution_count": null,
   "id": "24673a49",
   "metadata": {
    "tags": [
     "solution"
    ]
   },
   "outputs": [],
   "source": []
  },
  {
   "cell_type": "code",
   "execution_count": null,
   "id": "cad8f74b",
   "metadata": {
    "tags": [
     "solution"
    ]
   },
   "outputs": [],
   "source": []
  },
  {
   "cell_type": "code",
   "execution_count": null,
   "id": "f07f5d38",
   "metadata": {
    "tags": [
     "solution"
    ]
   },
   "outputs": [],
   "source": []
  },
  {
   "cell_type": "markdown",
   "id": "b8c0f35f",
   "metadata": {},
   "source": [
    "Define the parameters given in the table below as variables.\n",
    "\n",
    "Consider the following parameters:\n",
    "- length: $0.1~m$\n",
    "- diameter: $7.7~mm$\n",
    "- bed porosity: $0.36$\n",
    "- particle radius: $34 \\cdot 10^{-6}~m$\n",
    "- particle porosity: $0.85$"
   ]
  },
  {
   "cell_type": "code",
   "execution_count": null,
   "id": "e0a1dc5d",
   "metadata": {
    "tags": [
     "solution"
    ]
   },
   "outputs": [],
   "source": []
  },
  {
   "cell_type": "code",
   "execution_count": null,
   "id": "c81ed2ab",
   "metadata": {
    "tags": [
     "solution"
    ]
   },
   "outputs": [],
   "source": []
  },
  {
   "cell_type": "markdown",
   "id": "98fcbb95",
   "metadata": {},
   "source": [
    "Apply the Yamamoto method and save the return of the method in a variable. Print the characteristic charge and the equilibrium constant for all proteins in the system."
   ]
  },
  {
   "cell_type": "code",
   "execution_count": null,
   "id": "8964e35c",
   "metadata": {
    "tags": [
     "solution"
    ]
   },
   "outputs": [],
   "source": []
  },
  {
   "cell_type": "markdown",
   "id": "c897cdde",
   "metadata": {},
   "source": [
    "Visualize the results of the parameter estimation and check if the results are a good estimate of the experiments."
   ]
  },
  {
   "cell_type": "code",
   "execution_count": null,
   "id": "e36762f0",
   "metadata": {
    "tags": [
     "solution"
    ]
   },
   "outputs": [],
   "source": []
  },
  {
   "cell_type": "markdown",
   "id": "fa16ece4",
   "metadata": {},
   "source": [
    "It can be recognized that at least one experiment is not in a good alignment with the found parameter.\n",
    "Check the output of the parameter estimation and decide which experiment to neglect in the estimation."
   ]
  },
  {
   "cell_type": "code",
   "execution_count": null,
   "id": "c1738657",
   "metadata": {
    "tags": [
     "solution"
    ]
   },
   "outputs": [],
   "source": []
  },
  {
   "cell_type": "markdown",
   "id": "27c8a060",
   "metadata": {},
   "source": [
    "Viewing the data, the third entry related to the third experiment does not fit into the ascending sequence for the peak salt concentration. Remove the third experiment from the parameter estimation and redo the estimation. Also, visualize the results."
   ]
  },
  {
   "cell_type": "code",
   "execution_count": null,
   "id": "f696f655",
   "metadata": {
    "tags": [
     "solution"
    ]
   },
   "outputs": [],
   "source": []
  },
  {
   "cell_type": "code",
   "execution_count": null,
   "id": "9e747a44",
   "metadata": {
    "tags": [
     "solution"
    ]
   },
   "outputs": [],
   "source": []
  },
  {
   "cell_type": "markdown",
   "id": "b7d6f2ae",
   "metadata": {},
   "source": [
    "# Bonus Task\n",
    "\n",
    "Try to build a simple model which reproduces the experimental results.\n",
    "The model should consist of an `Inlet`, the column model and an `Outlet`.\n",
    "Use the values specified in the tables above.\n",
    "\n",
    "Keep in mind the following steps for creating a model:\n",
    "1. Specify missing UnitOperations\n",
    "1. Construct the flow sheet\n",
    "1. Construct the process\n",
    "1. Simulation and plotting\n",
    "1. Comparison to experiment"
   ]
  },
  {
   "cell_type": "markdown",
   "id": "d3d76c2d",
   "metadata": {},
   "source": [
    "### 1. Specify missing UnitOperations"
   ]
  },
  {
   "cell_type": "code",
   "execution_count": null,
   "id": "09c0fcda",
   "metadata": {},
   "outputs": [],
   "source": [
    "from CADETProcess.processModel import Inlet, Outlet\n",
    "\n",
    "inlet = Inlet(component_system, name='inlet')\n",
    "inlet.flow_rate = 8.33e-09\n",
    "\n",
    "outlet = Outlet(component_system, name='outlet')"
   ]
  },
  {
   "cell_type": "markdown",
   "id": "80c16d0e",
   "metadata": {},
   "source": [
    "### 2. Construct the flow sheet"
   ]
  },
  {
   "cell_type": "code",
   "execution_count": null,
   "id": "8f03a99d",
   "metadata": {},
   "outputs": [],
   "source": [
    "from CADETProcess.processModel import FlowSheet\n",
    "\n",
    "flow_sheet = FlowSheet(component_system)\n",
    "flow_sheet.add_unit(inlet)\n",
    "flow_sheet.add_unit(column)\n",
    "flow_sheet.add_unit(outlet)\n",
    "\n",
    "flow_sheet.add_connection(inlet, column)\n",
    "flow_sheet.add_connection(column, outlet)"
   ]
  },
  {
   "cell_type": "markdown",
   "id": "45f23b16",
   "metadata": {},
   "source": [
    "### 3. Construct the process"
   ]
  },
  {
   "cell_type": "code",
   "execution_count": null,
   "id": "ae2d9a9a",
   "metadata": {},
   "outputs": [],
   "source": [
    "from CADETProcess.processModel import Process\n",
    "\n",
    "flow_rate = 8.33e-09\n",
    "sample_volume = 50e-9\n",
    "wash_volume = 15e-6\n",
    "gradient_volume =18.8e-6\n",
    "strip_volume = 10e-6\n",
    "\n",
    "wash_start = sample_volume/flow_rate\n",
    "gradient_start = sample_volume/flow_rate + wash_volume/flow_rate\n",
    "strip_start = sample_volume/flow_rate + wash_volume/flow_rate + gradient_volume/flow_rate\n",
    "t_cycle = sample_volume/flow_rate + wash_volume/flow_rate + gradient_volume/flow_rate + strip_volume/flow_rate\n",
    "\n",
    "slope = ((experiment_1.c_salt_end-experiment_1.c_salt_start)/(gradient_volume/flow_rate))\n",
    "\n",
    "process = Process(flow_sheet, 'LWE_Lysozyme_18_8mL')\n",
    "process.cycle_time = t_cycle\n",
    "\n",
    "process.add_event('load', 'flow_sheet.inlet.c', [experiment_1.c_salt_start, 0.2, 0.24, 0.16], 0)\n",
    "process.add_event('wash', 'flow_sheet.inlet.c', [experiment_1.c_salt_start, 0, 0, 0], wash_start)\n",
    "process.add_event(\n",
    "    'grad_start',\n",
    "    'flow_sheet.inlet.c',\n",
    "    [[experiment_1.c_salt_start, slope], [0, 0], [0, 0], [0, 0]],\n",
    "    gradient_start\n",
    ")\n",
    "process.add_event('strip','flow_sheet.inlet.c', [experiment_1.c_salt_end, 0, 0, 0], strip_start)"
   ]
  },
  {
   "cell_type": "markdown",
   "id": "b4ebc274",
   "metadata": {},
   "source": [
    "### 7. Simulation and plotting"
   ]
  },
  {
   "cell_type": "code",
   "execution_count": null,
   "id": "58f021dd",
   "metadata": {},
   "outputs": [],
   "source": [
    "from CADETProcess.simulator import Cadet\n",
    "\n",
    "simulator = Cadet()\n",
    "sim_res = simulator.simulate (process)\n",
    "\n",
    "from CADETProcess.plotting import SecondaryAxis\n",
    "sec = SecondaryAxis()\n",
    "sec.components = [\"Salt\"]\n",
    "sec.y_label = '$c_{Salt}$'\n",
    "_ = sim_res.solution.column.outlet.plot(secondary_axis=sec)"
   ]
  },
  {
   "cell_type": "markdown",
   "id": "e66f2505",
   "metadata": {},
   "source": [
    "### 8. Comparison to experiment"
   ]
  },
  {
   "cell_type": "code",
   "execution_count": null,
   "id": "22b1ad40",
   "metadata": {},
   "outputs": [],
   "source": [
    "from CADETProcess.comparison import Comparator, ReferenceIO\n",
    "\n",
    "comparator = Comparator()\n",
    "for i_p in range(experiment_1.n_proteins):\n",
    "    Ref_name = 'Protein_'+str(i_p)\n",
    "    comparator.add_reference(ReferenceIO(\n",
    "        Ref_name, experiment_1.time, experiment_1.c_protein[:,i_p]\n",
    "        )\n",
    "    )\n",
    "    comparator.add_difference_metric(\n",
    "        'SSE', ReferenceIO(Ref_name, experiment_1.time, experiment_1.c_protein[:, i_p]),\n",
    "        'outlet.outlet', components=component_system.labels[i_p+1]\n",
    "    )\n",
    "\n",
    "comparator.plot_comparison(sim_res, plot_individual=True)"
   ]
  }
 ],
 "metadata": {
  "kernelspec": {
   "display_name": "Python 3 (ipykernel)",
   "language": "python",
   "name": "python3"
  }
 },
 "nbformat": 4,
 "nbformat_minor": 5
}
