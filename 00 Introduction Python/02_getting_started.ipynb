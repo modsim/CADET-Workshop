{
 "cells": [
  {
   "cell_type": "markdown",
   "id": "525aa027",
   "metadata": {},
   "source": [
    "## Getting started with Python\n",
    "\n",
    "### Hello World!\n",
    "The simplest program in Python consists of a line that tells the computer a command. Traditionally, the first program of every programmer in every new language prints \"Hello World!\""
   ]
  },
  {
   "cell_type": "markdown",
   "id": "a9f8c8f5",
   "metadata": {},
   "source": [
    "***Task:*** Change ```'Hello world!'``` to a different text message."
   ]
  },
  {
   "cell_type": "code",
   "execution_count": null,
   "id": "5a5a3d6f",
   "metadata": {
    "tags": [
     "solution"
    ]
   },
   "outputs": [],
   "source": []
  },
  {
   "cell_type": "markdown",
   "id": "2d17b73e",
   "metadata": {},
   "source": [
    "### Help me!\n",
    "The most important thing to learn in programming is finding help. The easiest way is to to use the ```help()``` function. If you get stuck, search for answers online in the online documentation of [Python](https://docs.python.org/3/) or in forums such as [Stackoverflow](https://stackoverflow.com/questions/tagged/python). Chances are, other programmers will have had the same problem as you have!"
   ]
  },
  {
   "cell_type": "markdown",
   "id": "7624f72b",
   "metadata": {},
   "source": [
    "***Task:*** Show the help documentation for the ```max``` function instead of the ```print``` function. Based on the help, use the ```max``` function to find the highest value of two numbers: ```5``` and ```2```."
   ]
  },
  {
   "cell_type": "code",
   "execution_count": null,
   "id": "6455d59b",
   "metadata": {
    "tags": [
     "solution"
    ]
   },
   "outputs": [],
   "source": []
  },
  {
   "cell_type": "markdown",
   "id": "0276865a",
   "metadata": {},
   "source": [
    "### Python as a calculator\n",
    "\n",
    "Python can be used just like a calculator. Enter an expression and the interpreter returns the result. The syntax is simple: the operators ```+```, ```-```, ```*```, and ```/``` act as you would expect. Round brackets ```( )``` can be used to group expressions."
   ]
  },
  {
   "cell_type": "markdown",
   "id": "e97f33f9",
   "metadata": {},
   "source": [
    "***Task:*** Play around with the interpreter and enter some equations!"
   ]
  },
  {
   "cell_type": "code",
   "execution_count": null,
   "id": "a79f70a5",
   "metadata": {
    "tags": [
     "solution"
    ]
   },
   "outputs": [],
   "source": []
  },
  {
   "cell_type": "code",
   "execution_count": null,
   "id": "f73f35bb",
   "metadata": {
    "tags": [
     "solution"
    ]
   },
   "outputs": [],
   "source": []
  },
  {
   "cell_type": "markdown",
   "id": "94b43b40",
   "metadata": {},
   "source": [
    "### Operators\n",
    "\n",
    "We've already seen some operators. Operators are used to transform, compare, join, substract, etc. Below is a list of operators in descending order of precedence. When there are no parenthesis to guide the precedence, this order will be assumed.\n",
    "\n",
    "| Operator | Description |\n",
    "| --- | --- |\n",
    "| ** | Exponent |\n",
    "| *, /, //, % | Multiplication, Division, Floor division, Modulus |\n",
    "| +, - | Addition, Subtraction |\n",
    "| <=, <, >, >= | Comparison |\n",
    "| =, %=, /=, //=, -=, +=, *=, **= | Assignment |\n",
    "| is, is not | Identity |\n",
    "| in, not in | Membership |\n",
    "| not, or, and | Logical |"
   ]
  },
  {
   "cell_type": "markdown",
   "id": "33afd495",
   "metadata": {},
   "source": [
    "***Example:***"
   ]
  },
  {
   "cell_type": "code",
   "execution_count": null,
   "id": "0899205a",
   "metadata": {
    "tags": [
     "solution"
    ]
   },
   "outputs": [],
   "source": []
  },
  {
   "cell_type": "markdown",
   "id": "8322b455",
   "metadata": {},
   "source": [
    "***Example:***"
   ]
  },
  {
   "cell_type": "code",
   "execution_count": null,
   "id": "6b8d571b",
   "metadata": {
    "tags": [
     "solution"
    ]
   },
   "outputs": [],
   "source": []
  },
  {
   "cell_type": "markdown",
   "id": "eb66e682",
   "metadata": {},
   "source": [
    "***Task:*** Calculate the volume of the unit sphere."
   ]
  },
  {
   "cell_type": "code",
   "execution_count": null,
   "id": "0c4b838d",
   "metadata": {
    "tags": [
     "solution"
    ]
   },
   "outputs": [],
   "source": []
  },
  {
   "cell_type": "markdown",
   "id": "48fe0b70",
   "metadata": {},
   "source": [
    "***Task:*** Determine whether $35^2$ is greater than $2^{10}$."
   ]
  },
  {
   "cell_type": "code",
   "execution_count": null,
   "id": "573cb4c4",
   "metadata": {
    "tags": [
     "solution"
    ]
   },
   "outputs": [],
   "source": []
  },
  {
   "cell_type": "markdown",
   "id": "46dc83f8",
   "metadata": {},
   "source": [
    "### Variables\n",
    "\n",
    "Variables are reserved memory locations to store values. By assigning different data types to variables, you can store integers, decimals or characters in these variables. Python variables do not need explicit declaration to reserve memory space. The declaration happens automatically when you assign a value to a variable using the equal sign (```=```).\n",
    "\n",
    "The operand to the left of the ```=``` operator is the name of the variable and the operand to the right of the ```=``` operator is the value stored in the variable. A variable name must begin with a letter or underscore but not with a number or other special characters. A variable name must not have a space and lowercase or uppercase are permitted."
   ]
  },
  {
   "cell_type": "markdown",
   "id": "b0ef4712",
   "metadata": {},
   "source": [
    "***Example:***"
   ]
  },
  {
   "cell_type": "code",
   "execution_count": null,
   "id": "48e6b537",
   "metadata": {
    "tags": [
     "solution"
    ]
   },
   "outputs": [],
   "source": []
  },
  {
   "cell_type": "markdown",
   "id": "5fcda569",
   "metadata": {},
   "source": [
    "***Task:*** Correct the following errors in the variable names and print their values."
   ]
  },
  {
   "cell_type": "code",
   "execution_count": null,
   "id": "4bcbc1f9",
   "metadata": {
    "tags": [
     "solution"
    ]
   },
   "outputs": [],
   "source": []
  },
  {
   "cell_type": "markdown",
   "id": "427525b6",
   "metadata": {},
   "source": [
    "***Task:*** Write an equation for the volume of a cylinder using predefined variables."
   ]
  },
  {
   "cell_type": "code",
   "execution_count": null,
   "id": "9ac7822c",
   "metadata": {
    "tags": [
     "solution"
    ]
   },
   "outputs": [],
   "source": []
  },
  {
   "cell_type": "markdown",
   "id": "fbbd7f49",
   "metadata": {},
   "source": [
    "### Object Orientation/Types\n",
    "Object-oriented Programming (OOP), is a programming paradigm which provides means of structuring programs so that properties and behaviors are bundled into individual objects. For instance, an object could represent a person with a name property, age, address, etc., with behaviors like walking, talking, breathing, and running. Or an email with properties like recipient list, subject, body, etc., and behaviors like adding attachments and sending.\n",
    "\n",
    "A deeper introduction to OOP is out of scope for this course. However, it is important to know that in Python *everything* is an object. This means, it is of a certain *type* and every type brings with it certain behaviour. Python has five standard data types and we've already met some (subclasses) of them:\n",
    "- Numbers\n",
    "- String\n",
    "- List\n",
    "- Tuple\n",
    "- Dictionary\n",
    "\n",
    "The type can be determined using the ```type``` function."
   ]
  },
  {
   "cell_type": "markdown",
   "id": "6c9f6f56",
   "metadata": {},
   "source": [
    "***Example:***"
   ]
  },
  {
   "cell_type": "code",
   "execution_count": null,
   "id": "af98abd3",
   "metadata": {
    "tags": [
     "solution"
    ]
   },
   "outputs": [],
   "source": []
  },
  {
   "cell_type": "markdown",
   "id": "e394828c",
   "metadata": {},
   "source": [
    "***Task:*** Print the variable value and type for ```answer```, and ```file_name```."
   ]
  },
  {
   "cell_type": "code",
   "execution_count": null,
   "id": "1f415f25",
   "metadata": {
    "tags": [
     "solution"
    ]
   },
   "outputs": [],
   "source": []
  },
  {
   "cell_type": "markdown",
   "id": "ec8c129d",
   "metadata": {},
   "source": [
    "Almost everything in Python has *attributes* and *methods*."
   ]
  },
  {
   "cell_type": "markdown",
   "id": "a3c3ee39",
   "metadata": {},
   "source": [
    "***Example:*** Complex numbers are an extension of the familiar real number system in which all numbers are expressed as a sum of a real part and an imaginary part. Imaginary numbers are real multiples of the imaginary unit (the square root of -1), written with $j$ in Python. You can access the real and imaginary parts of complex numbers using ```real``` and ```imganiary``` parts."
   ]
  },
  {
   "cell_type": "code",
   "execution_count": null,
   "id": "e1c1f926",
   "metadata": {
    "tags": [
     "solution"
    ]
   },
   "outputs": [],
   "source": []
  },
  {
   "cell_type": "markdown",
   "id": "b182437e",
   "metadata": {},
   "source": [
    "***Task:*** The method ```upper()``` returns a copy of the string in which all case-based characters have been uppercased. Use this method to capitalize a string variable."
   ]
  },
  {
   "cell_type": "code",
   "execution_count": null,
   "id": "f407b49d",
   "metadata": {
    "tags": [
     "solution"
    ]
   },
   "outputs": [],
   "source": []
  },
  {
   "cell_type": "markdown",
   "id": "bcb109e5",
   "metadata": {},
   "source": [
    "### Containers\n",
    "Lists are the most versatile compound data type for grouping together values in Python. A list contains items separated by commas and enclosed within square brackets (```[]```). The values stored in a list can be accessed using the slice operator (```[index]```, ```[start:end]```) with indexes starting at ***0*** in the beginning of the list and working their way to end ***-1***."
   ]
  },
  {
   "cell_type": "markdown",
   "id": "06b3f942",
   "metadata": {},
   "source": [
    "***Example:***"
   ]
  },
  {
   "cell_type": "code",
   "execution_count": null,
   "id": "4cda855a",
   "metadata": {
    "tags": [
     "solution"
    ]
   },
   "outputs": [],
   "source": []
  },
  {
   "cell_type": "markdown",
   "id": "81f8b092",
   "metadata": {},
   "source": [
    "***Task:*** Print elements starting from 3rd element."
   ]
  },
  {
   "cell_type": "code",
   "execution_count": null,
   "id": "ea1b5c7b",
   "metadata": {
    "tags": [
     "solution"
    ]
   },
   "outputs": [],
   "source": []
  },
  {
   "cell_type": "markdown",
   "id": "8af9de9f",
   "metadata": {},
   "source": [
    "***Task:*** Append ```99``` to the list using the ```append()``` method."
   ]
  },
  {
   "cell_type": "code",
   "execution_count": null,
   "id": "5493a999",
   "metadata": {
    "tags": [
     "solution"
    ]
   },
   "outputs": [],
   "source": []
  },
  {
   "cell_type": "markdown",
   "id": "2f141dbb",
   "metadata": {},
   "source": [
    "### Dictionaries\n",
    "\n",
    "Dictionaries in Python are unordered collections of key-value pairs enclosed within curly brackets (`{}`). Unlike lists, which are indexed by numbers, dictionaries are indexed by\n",
    "keys, which can be either numbers or strings."
   ]
  },
  {
   "cell_type": "markdown",
   "id": "d2e9abd3",
   "metadata": {},
   "source": [
    "***Example:***"
   ]
  },
  {
   "cell_type": "code",
   "execution_count": null,
   "id": "1f7501b6",
   "metadata": {
    "tags": [
     "solution"
    ]
   },
   "outputs": [],
   "source": []
  },
  {
   "cell_type": "markdown",
   "id": "24cf6bf4",
   "metadata": {},
   "source": [
    "Dictionaries, like lists, can be nested."
   ]
  },
  {
   "cell_type": "code",
   "execution_count": null,
   "id": "adb4834d",
   "metadata": {
    "tags": [
     "solution"
    ]
   },
   "outputs": [],
   "source": []
  },
  {
   "cell_type": "markdown",
   "id": "9ee5a9b0",
   "metadata": {},
   "source": [
    "#### Addict\n",
    "\n",
    "Since the syntax to traverse deeply nested dictionaries can be quite tedious, we can use the package `addict` to simplify it to the dot notation."
   ]
  },
  {
   "cell_type": "code",
   "execution_count": null,
   "id": "122fee7f",
   "metadata": {
    "tags": [
     "solution"
    ]
   },
   "outputs": [],
   "source": []
  },
  {
   "cell_type": "markdown",
   "id": "2728908b",
   "metadata": {},
   "source": [
    "### Python syntax\n",
    "\n",
    "In Python code blocks are structured by indentation level. It is is a language requirement not a matter of style. This principle makes it easier to read because it eliminates most of braces ```{ }``` and ```end``` statements which makes Python code much more readable. All statements with the same distance from left belong to the same block of code, i.e. the statements within a block line up vertically. If a block has to be more deeply nested, it is simply indented further to the right.\n",
    "\n",
    "Loops and Conditional statements end with a colon ```:```. The same is true for functions and other structures introducing blocks."
   ]
  },
  {
   "cell_type": "markdown",
   "id": "1be11d70",
   "metadata": {},
   "source": [
    "### Conditions\n",
    "\n",
    "Conditional statements are used to direct the flow of the program to different commands based on whether a statement is ```True``` or ```False```. A boolean (```True``` or ```False```) is used to direct the flow with an ```if```, ```elif``` (else if), or ```else``` parts to the statement."
   ]
  },
  {
   "cell_type": "markdown",
   "id": "46c27f46",
   "metadata": {},
   "source": [
    "***Example:***"
   ]
  },
  {
   "cell_type": "code",
   "execution_count": null,
   "id": "25bcb185",
   "metadata": {
    "tags": [
     "solution"
    ]
   },
   "outputs": [],
   "source": []
  },
  {
   "cell_type": "markdown",
   "id": "54c6a81f",
   "metadata": {},
   "source": [
    "***Task:*** Write a conditional statement that checks whether the string ```'spam'``` is in ```menu```.\n",
    "**Hint:** Check the operators list for membership statements."
   ]
  },
  {
   "cell_type": "code",
   "execution_count": null,
   "id": "7f8d96bb",
   "metadata": {
    "tags": [
     "solution"
    ]
   },
   "outputs": [],
   "source": []
  },
  {
   "cell_type": "markdown",
   "id": "6d5adae1",
   "metadata": {},
   "source": [
    "### Loops\n",
    "Often, we don't know (or care) how many elements are in a container (e.g. list). We just want to perform an operation on every element of the container. The ```for``` statement in Python differs a bit from what you may be used to in C or Pascal. Python’s ```for``` statement iterates over the items of any sequence (e.g. a list or a string), in the order that they appear in the sequence."
   ]
  },
  {
   "cell_type": "markdown",
   "id": "3e68aea5",
   "metadata": {},
   "source": [
    "***Example:***"
   ]
  },
  {
   "cell_type": "code",
   "execution_count": null,
   "id": "9b978be8",
   "metadata": {
    "tags": [
     "solution"
    ]
   },
   "outputs": [],
   "source": []
  },
  {
   "cell_type": "markdown",
   "id": "4f8b3fbb",
   "metadata": {},
   "source": [
    "***Task:*** Create a list with strings, iterate over all elements and print the string and the length of the string using the ```len``` function."
   ]
  },
  {
   "cell_type": "code",
   "execution_count": null,
   "id": "5a9f5960",
   "metadata": {
    "tags": [
     "solution"
    ]
   },
   "outputs": [],
   "source": []
  },
  {
   "cell_type": "markdown",
   "id": "fd904c8a",
   "metadata": {},
   "source": [
    "## Functions\n",
    "A function is a block of organized, reusable code that is used to perform a single, related action. Functions provide better modularity for your application and a high degree of code reusing. There are built-in functions like ```print()```, ```help()```, etc. but it is possible to create your own functions. These functions are called user-defined functions.\n",
    "A function definition describes what is to be calculated once the function is called. The keyword ```def``` introduces a function definition. It must be followed by the function name and the parenthesized list of formal parameters. The statements that form the body of the function start at the next line, and must be indented.\n",
    "\n",
    "***Note***, the function is not evaluated when defined!"
   ]
  },
  {
   "cell_type": "markdown",
   "id": "94a5b01a",
   "metadata": {},
   "source": [
    "***Example:***"
   ]
  },
  {
   "cell_type": "code",
   "execution_count": null,
   "id": "a78090cd",
   "metadata": {
    "tags": [
     "solution"
    ]
   },
   "outputs": [],
   "source": []
  },
  {
   "cell_type": "markdown",
   "id": "291a2c80",
   "metadata": {},
   "source": [
    "***Task:*** Define a function that returns the volume of a cylinder as a function of diameter and length."
   ]
  },
  {
   "cell_type": "code",
   "execution_count": null,
   "id": "7883ec2e",
   "metadata": {
    "tags": [
     "solution"
    ]
   },
   "outputs": [],
   "source": []
  }
 ],
 "metadata": {
  "kernelspec": {
   "display_name": "Python 3 (ipykernel)",
   "language": "python",
   "name": "python3"
  }
 },
 "nbformat": 4,
 "nbformat_minor": 5
}
