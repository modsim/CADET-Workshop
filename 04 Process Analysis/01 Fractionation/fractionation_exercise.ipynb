{
 "cells": [
  {
   "cell_type": "markdown",
   "id": "724831d7",
   "metadata": {},
   "source": [
    "# Fractionation - Exercise\n",
    "\n",
    "Take the following process from [this example](https://cadet-process.readthedocs.io/en/stable/examples/load_wash_elute/lwe_flow_rate.html).\n",
    "\n",
    "- Simulate the process.\n",
    "- Plot the outlet concentration. Use a secondary axis for the `Salt` component.\n",
    "- Instantiate a `Fractionator` and manually set fractionation times to purify component `C`.\n",
    "- Plot the results and analyse the `performance`, especially the purity.\n",
    "- Exclude the `Salt` component from the fractionation and analyse the `performance` again.\n",
    "- Use a `FractionationOptimizer` to automatically determine adequate cut times. Play around with different purity requirements and objecives."
   ]
  },
  {
   "cell_type": "code",
   "execution_count": null,
   "id": "3f729153",
   "metadata": {},
   "outputs": [],
   "source": [
    "from examples.load_wash_elute.lwe_flow_rate import process"
   ]
  },
  {
   "cell_type": "code",
   "execution_count": null,
   "id": "4f3eeb1b",
   "metadata": {
    "tags": [
     "solution"
    ]
   },
   "outputs": [],
   "source": []
  },
  {
   "cell_type": "code",
   "execution_count": null,
   "id": "2aaa06a5",
   "metadata": {
    "tags": [
     "solution"
    ]
   },
   "outputs": [],
   "source": []
  },
  {
   "cell_type": "code",
   "execution_count": null,
   "id": "620d452a",
   "metadata": {
    "tags": [
     "solution"
    ]
   },
   "outputs": [],
   "source": []
  },
  {
   "cell_type": "code",
   "execution_count": null,
   "id": "d040417e",
   "metadata": {
    "tags": [
     "solution"
    ]
   },
   "outputs": [],
   "source": []
  }
 ],
 "metadata": {
  "jupytext": {
   "formats": "ipynb,md:myst"
  },
  "kernelspec": {
   "display_name": "Python 3 (ipykernel)",
   "language": "python",
   "name": "python3"
  }
 },
 "nbformat": 4,
 "nbformat_minor": 5
}
