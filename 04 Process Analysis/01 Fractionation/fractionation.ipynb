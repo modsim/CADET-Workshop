{
 "cells": [
  {
   "cell_type": "markdown",
   "id": "40152025",
   "metadata": {
    "slideshow": {
     "slide_type": "slide"
    }
   },
   "source": [
    "# Product Fractionation\n",
    "\n",
    "- Key information for evaluating the separation performance of a chromatographic process: Amounts of the target components in the collected product fractions.\n",
    "- Evaluation of chromatograms $c_{i,k}\\left(t\\right)$ at the outlet(s) of the process must be evaluated.\n",
    "\n",
    "$$\n",
    "m_{i} = \\sum_{k=1}^{n_{chrom}} \\sum_{j=1}^{n_{frac, k}^{i}}\\int_{t_{start, j}}^{t_{end, j}} Q_k(t) \\cdot c_{i,k}(t) dt,\\\\\n",
    "$$\n",
    "\n",
    "where $n_{frac, k}^{i}$ is the number of fractions considered for component $i$ in chromatogram $k$, and $n_{chrom}$ is the number of chromatograms that is evaluated."
   ]
  },
  {
   "cell_type": "markdown",
   "id": "eb4ccf48",
   "metadata": {
    "slideshow": {
     "slide_type": "slide"
    }
   },
   "source": [
    "## Key Performance Indicators (KPI)\n",
    "\n",
    "### Productivity\n",
    "$$\n",
    "PR_{i} = \\frac{m_i}{V_{solid} \\cdot \\Delta t_{cycle}},\\\\\n",
    "$$\n",
    "with $V_{solid}$: volume of stationary phase."
   ]
  },
  {
   "cell_type": "markdown",
   "id": "4c7fad94",
   "metadata": {
    "slideshow": {
     "slide_type": "fragment"
    }
   },
   "source": [
    "### Recovery Yield\n",
    "$$\n",
    "Y_{i} = \\frac{m_i}{m_{feed, i}},\\\\\n",
    "$$\n",
    "with $m_{feed}$: injected amount of mixture."
   ]
  },
  {
   "cell_type": "markdown",
   "id": "16c9be7a",
   "metadata": {
    "slideshow": {
     "slide_type": "fragment"
    }
   },
   "source": [
    "### Eluent Consumption\n",
    "$$\n",
    "EC_{i} = \\frac{V_{solvent}}{m_i},\\\\\n",
    "$$\n",
    "with $V_{solvent}$: solvent used during a cycle."
   ]
  },
  {
   "cell_type": "markdown",
   "id": "d5b86be2",
   "metadata": {
    "slideshow": {
     "slide_type": "fragment"
    }
   },
   "source": [
    "### Purity\n",
    "\n",
    "$$\n",
    "PU_{i} = \\frac{m_{i}^{i}}{\\sum_{l=1}^{n_{comp}} m_{l}^{i}},\\\\\n",
    "$$\n",
    "where $n_{comp}$ is the number of mixture components and $m_{l}^{i}$ is the mass of component $l$ in target fraction $i$."
   ]
  },
  {
   "cell_type": "markdown",
   "id": "1c3cf23a",
   "metadata": {},
   "source": [
    "## Fractionator\n",
    "\n",
    "In **CADET-Process**, the `fractionation` module provides methods to calculate these performance indicators."
   ]
  },
  {
   "cell_type": "markdown",
   "id": "b7b10699",
   "metadata": {
    "slideshow": {
     "slide_type": "fragment"
    }
   },
   "source": [
    "The `Fractionator` allows slicing the solution and pool fractions for the individual components.\n",
    "It enables evaluating multiple chromatograms at once and multiple fractions per component per chromatogram."
   ]
  },
  {
   "cell_type": "markdown",
   "id": "a5be3fe3",
   "metadata": {
    "slideshow": {
     "slide_type": "fragment"
    }
   },
   "source": [
    "The most basic strategy is to manually set all fractionation times manually.\n",
    "To demonstrate the strategy, a process from the [examples collection](https://cadet-process.readthedocs.io/en/latest/examples/batch_elution/process.html) is used."
   ]
  },
  {
   "cell_type": "code",
   "execution_count": null,
   "id": "c3b4e2b3",
   "metadata": {
    "tags": [
     "solution"
    ]
   },
   "outputs": [],
   "source": [
    "from examples.batch_elution.process import process"
   ]
  },
  {
   "cell_type": "markdown",
   "id": "ea7dc7fc",
   "metadata": {
    "slideshow": {
     "slide_type": "fragment"
    }
   },
   "source": [
    "To enable the calculation of the process parameters, it is necessary to specify which of the inlets should be considered for the feed and eluent consumption.\n",
    "Moreover, the outlet(s) which are used for evaluation need to be defined.\n",
    "\n",
    "```\n",
    "process.flow_sheet.add_feed_inlet('feed')\n",
    "process.flow_sheet.add_eluent_inlet('eluent')\n",
    "process.flow_sheet.add_chromatogram_outlet('outlet')\n",
    "```"
   ]
  },
  {
   "cell_type": "code",
   "execution_count": null,
   "id": "7f6a1894",
   "metadata": {
    "tags": [
     "solution"
    ]
   },
   "outputs": [],
   "source": [
    "from CADETProcess.simulator import Cadet\n",
    "process_simulator = Cadet()\n",
    "simulation_results = process_simulator.simulate(process)"
   ]
  },
  {
   "cell_type": "markdown",
   "id": "e0e8b16c",
   "metadata": {
    "slideshow": {
     "slide_type": "slide"
    }
   },
   "source": [
    "For reference, this is the chromatogram at the outlet that needs to be fractionated:"
   ]
  },
  {
   "cell_type": "code",
   "execution_count": null,
   "id": "c6e2c166",
   "metadata": {
    "render": {
     "figure": {
      "caption": "Concentration profile at column outlet.\n",
      "name": "column_outlet"
     }
    },
    "tags": [
     "solution"
    ]
   },
   "outputs": [],
   "source": [
    "_ = simulation_results.solution.outlet.outlet.plot()"
   ]
  },
  {
   "cell_type": "markdown",
   "id": "62043b59",
   "metadata": {
    "slideshow": {
     "slide_type": "slide"
    }
   },
   "source": [
    "After import, the `Fractionator` is instantiated with the simulation results."
   ]
  },
  {
   "cell_type": "code",
   "execution_count": null,
   "id": "adb26c42",
   "metadata": {
    "tags": [
     "solution"
    ]
   },
   "outputs": [],
   "source": [
    "from CADETProcess.fractionation import Fractionator\n",
    "fractionator = Fractionator(simulation_results)"
   ]
  },
  {
   "cell_type": "markdown",
   "id": "144b638d",
   "metadata": {
    "slideshow": {
     "slide_type": "fragment"
    }
   },
   "source": [
    "To add a fractionation event, the following arguments need to be provided:\n",
    "- `event_name`: Name of the event.\n",
    "- `target`: Pool to which fraction is added. `-1` indicates waste.\n",
    "- `time`: Time of the event\n",
    "- `chromatogram`: Name of the chromatogram. Optional if only one outlet is set as `chromatogram_sink`.\n",
    "\n",
    "Here, component $A$ seems to have sufficient purity between $5 \\colon 00~min$ and $5 \\colon 45~min$ and component $B$ between $6 \\colon 30~min$ and $9 \\colon 00~min$."
   ]
  },
  {
   "cell_type": "code",
   "execution_count": null,
   "id": "f653ebea",
   "metadata": {
    "tags": [
     "solution"
    ]
   },
   "outputs": [],
   "source": [
    "fractionator.add_fractionation_event('start_A', 0, 5*60, 'outlet')\n",
    "fractionator.add_fractionation_event('end_A', -1, 5.75*60)\n",
    "fractionator.add_fractionation_event('start_B', 1, 6.5*60)\n",
    "fractionator.add_fractionation_event('end_B', -1, 9*60)"
   ]
  },
  {
   "cell_type": "markdown",
   "id": "c2f848a4",
   "metadata": {
    "slideshow": {
     "slide_type": "slide"
    }
   },
   "source": [
    "The `performance` object of the `Fractionator` contains the parameters:"
   ]
  },
  {
   "cell_type": "code",
   "execution_count": null,
   "id": "03f2423b",
   "metadata": {
    "tags": [
     "solution"
    ]
   },
   "outputs": [],
   "source": [
    "print(fractionator.performance)"
   ]
  },
  {
   "cell_type": "markdown",
   "id": "70cbb153",
   "metadata": {
    "slideshow": {
     "slide_type": "fragment"
    }
   },
   "source": [
    "With these fractionation times, the both component fractions reach a purity of $99.7~\\%$, and $97.2~\\%$  respectively.\n",
    "The recovery yields are $65.2~\\%$ and $63.4~\\%$."
   ]
  },
  {
   "cell_type": "markdown",
   "id": "bc98725d",
   "metadata": {
    "slideshow": {
     "slide_type": "slide"
    }
   },
   "source": [
    "The chromatogram can be plotted with the fraction times overlaid:"
   ]
  },
  {
   "cell_type": "code",
   "execution_count": null,
   "id": "66942615",
   "metadata": {
    "tags": [
     "solution"
    ]
   },
   "outputs": [],
   "source": [
    "_ = fractionator.plot_fraction_signal()"
   ]
  },
  {
   "cell_type": "markdown",
   "id": "b312e54e",
   "metadata": {
    "slideshow": {
     "slide_type": "slide"
    }
   },
   "source": [
    "## Optimization of Fractionation Times\n",
    "- The `fractionation` module provides tools to automatically determines optimal cut times.\n",
    "- By default, the mass of the components is maximized under purity constraints.\n",
    "- Different purity requirements can be specified for each component"
   ]
  },
  {
   "cell_type": "code",
   "execution_count": null,
   "id": "9a8e7250",
   "metadata": {
    "tags": [
     "solution"
    ]
   },
   "outputs": [],
   "source": [
    "from CADETProcess.fractionation import FractionationOptimizer\n",
    "fractionation_optimizer = FractionationOptimizer()\n",
    "fractionation_optimizer.optimizer.rhobeg = 1e-3  # more on that later!"
   ]
  },
  {
   "cell_type": "markdown",
   "id": "03de3e7e",
   "metadata": {
    "slideshow": {
     "slide_type": "slide"
    }
   },
   "source": [
    "To automatically optimize the fractionation times, pass the simulation results to the `optimize_fractionation` function."
   ]
  },
  {
   "cell_type": "code",
   "execution_count": null,
   "id": "5f0d2d19",
   "metadata": {
    "tags": [
     "solution"
    ]
   },
   "outputs": [],
   "source": [
    "fractionator = fractionation_optimizer.optimize_fractionation(simulation_results, purity_required=[0.95, 0])"
   ]
  },
  {
   "cell_type": "markdown",
   "id": "4004d329",
   "metadata": {
    "slideshow": {
     "slide_type": "fragment"
    }
   },
   "source": [
    "The results are stored in a `Performance` object."
   ]
  },
  {
   "cell_type": "code",
   "execution_count": null,
   "id": "b3210871",
   "metadata": {
    "tags": [
     "solution"
    ]
   },
   "outputs": [],
   "source": [
    "print(fractionator.performance)"
   ]
  },
  {
   "cell_type": "markdown",
   "id": "dd1d4cb4",
   "metadata": {
    "slideshow": {
     "slide_type": "slide"
    }
   },
   "source": [
    "The chromatogram can also be plotted with the fraction times overlaid:"
   ]
  },
  {
   "cell_type": "code",
   "execution_count": null,
   "id": "161887e2",
   "metadata": {
    "tags": [
     "solution"
    ]
   },
   "outputs": [],
   "source": [
    "_ = fractionator.plot_fraction_signal()"
   ]
  },
  {
   "cell_type": "markdown",
   "id": "c19b329c",
   "metadata": {
    "slideshow": {
     "slide_type": "slide"
    }
   },
   "source": [
    "For comparison, this is the results if only the second component is relevant:"
   ]
  },
  {
   "cell_type": "code",
   "execution_count": null,
   "id": "d3de106b",
   "metadata": {
    "tags": [
     "solution"
    ]
   },
   "outputs": [],
   "source": [
    "fractionator = fractionation_optimizer.optimize_fractionation(simulation_results, purity_required=[0, 0.95])\n",
    "\n",
    "print(fractionator.performance)\n",
    "_ = fractionator.plot_fraction_signal()"
   ]
  },
  {
   "cell_type": "markdown",
   "id": "4d0cd72a",
   "metadata": {
    "slideshow": {
     "slide_type": "slide"
    }
   },
   "source": [
    "But of course, also both components can be valuable.\n",
    "Here, the required purity is also reduced to demonstrate that overlapping fractions are automatically avoided by internally introducing linear constraints."
   ]
  },
  {
   "cell_type": "code",
   "execution_count": null,
   "id": "b121849a",
   "metadata": {
    "tags": [
     "solution"
    ]
   },
   "outputs": [],
   "source": [
    "fractionator = fractionation_optimizer.optimize_fractionation(simulation_results, purity_required=[0.8, 0.8])\n",
    "\n",
    "print(fractionator.performance)\n",
    "_ = fractionator.plot_fraction_signal()"
   ]
  },
  {
   "cell_type": "markdown",
   "id": "68ee444f",
   "metadata": {
    "slideshow": {
     "slide_type": "slide"
    }
   },
   "source": [
    "## Alternative Objectives\n",
    "\n",
    "- define function that that takes a `Performance` as an input.\n",
    "- Here, also consider concentration of the fraction."
   ]
  },
  {
   "cell_type": "markdown",
   "id": "e4768da3",
   "metadata": {
    "slideshow": {
     "slide_type": "fragment"
    }
   },
   "source": [
    "```{note}\n",
    "As previously mentioned, `COBYLA` only handles single objectives.\n",
    "Hence, a `RankedPerformance` is used which transforms the `Performance` object by adding a weight $w_i$ to each component.\n",
    "```\n",
    "\n",
    "$$\n",
    "p = \\frac{\\sum_i^{n_{comp}}w_i \\cdot p_i}{\\sum_i^{n_{comp}}(w_i)}\n",
    "$$"
   ]
  },
  {
   "cell_type": "markdown",
   "id": "87a3a9e2",
   "metadata": {
    "slideshow": {
     "slide_type": "fragment"
    }
   },
   "source": [
    "It is also important to remember that by convention, objectives are minimized.\n",
    "Since in this example, the product of mass and concentration should be maximized, the value of the objective function is multiplied by $-1$."
   ]
  },
  {
   "cell_type": "code",
   "execution_count": null,
   "id": "e3800e28",
   "metadata": {
    "tags": [
     "solution"
    ]
   },
   "outputs": [],
   "source": [
    "from CADETProcess.performance import RankedPerformance\n",
    "ranking = [1, 1]\n",
    "\n",
    "def alternative_objective(performance):\n",
    "    performance = RankedPerformance(performance, ranking)\n",
    "    return - performance.mass * performance.concentration\n",
    "\n",
    "fractionator = fractionation_optimizer.optimize_fractionation(\n",
    "    simulation_results, purity_required=[0.95, 0.95],\n",
    "    obj_fun=alternative_objective,\n",
    ")"
   ]
  },
  {
   "cell_type": "code",
   "execution_count": null,
   "id": "7a0bebdd",
   "metadata": {
    "slideshow": {
     "slide_type": "slide"
    },
    "tags": [
     "solution"
    ]
   },
   "outputs": [],
   "source": [
    "print(fractionator.performance)\n",
    "_ = fractionator.plot_fraction_signal()"
   ]
  },
  {
   "cell_type": "markdown",
   "id": "b1ff9056",
   "metadata": {
    "slideshow": {
     "slide_type": "notes"
    }
   },
   "source": [
    "The resulting fractionation times show that in this case, it is advantageous to discard some slices of the peak in order not to dilute the overall product fraction."
   ]
  }
 ],
 "metadata": {
  "kernelspec": {
   "display_name": "Python 3 (ipykernel)",
   "language": "python",
   "name": "python3"
  }
 },
 "nbformat": 4,
 "nbformat_minor": 5
}
