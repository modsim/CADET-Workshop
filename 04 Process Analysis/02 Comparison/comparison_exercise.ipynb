{
 "cells": [
  {
   "cell_type": "markdown",
   "id": "19b5045b",
   "metadata": {},
   "source": [
    "# Comparison - Exercise\n",
    "\n",
    "For this exercise, consider the following flow sheet:\n",
    "\n",
    "```{figure} ./figures/comparator_uv_cond.png\n",
    "```\n",
    "\n",
    "To characterize the system periphery, a pore-penetrating tracer (Acetone) pulse was injected into the system without a column.\n",
    "and UV and conductivity were measured.\n",
    "\n",
    "```{note}\n",
    "To model the additional dispersion of the system, two `Cstr`s were introduced\n",
    "```"
   ]
  },
  {
   "cell_type": "markdown",
   "id": "3dc39619",
   "metadata": {},
   "source": [
    "The (synthetic) experiment was repeated to account for system variability. The data was converted to concentrations in $mM$ and can be found in `./experimental_data`.\n",
    "\n",
    "**Task:**\n",
    "- Import and plot the experimental data using the `ReferenceIO` class.\n",
    "- Add the references to the `Process`.\n",
    "- Add the `SSE` difference metric and compare with simulation results.\n",
    "- Compare with other metrics."
   ]
  },
  {
   "cell_type": "code",
   "execution_count": null,
   "id": "d6435ce2",
   "metadata": {},
   "outputs": [],
   "source": [
    "from CADETProcess.processModel import ComponentSystem\n",
    "from CADETProcess.processModel import Inlet, Cstr, TubularReactor, Outlet\n",
    "from CADETProcess.processModel import FlowSheet\n",
    "from CADETProcess.processModel import Process\n",
    "from CADETProcess.simulator import Cadet\n",
    "\n",
    "# Some Variables\n",
    "Q_ml_min = 0.5  # ml/min\n",
    "Q_m3_s = Q_ml_min/(60*1e6)\n",
    "V_tracer = 50e-9  # m3\n",
    "\n",
    "# Component System\n",
    "component_system = ComponentSystem(['Acetone'])\n",
    "\n",
    "# Unit Operations\n",
    "acetone = Inlet(component_system, name='acetone')\n",
    "acetone.c = [131.75]\n",
    "\n",
    "water = Inlet(component_system, name='water')\n",
    "water.c = [0]\n",
    "\n",
    "inlet_valve = Cstr(component_system, name='inlet_valve')\n",
    "inlet_valve.V = 5e-9\n",
    "inlet_valve.c = [0]\n",
    "\n",
    "tubing = TubularReactor(component_system, name='tubing')\n",
    "tubing.length = 0.85\n",
    "tubing.diameter = 0.00075\n",
    "tubing.axial_dispersion = 0.00125\n",
    "tubing.c = [0]\n",
    "\n",
    "uv_detector = Cstr(component_system, name='uv_detector')\n",
    "uv_detector.V = 1.5e-8\n",
    "uv_detector.c = [0]\n",
    "\n",
    "cond_detector = Cstr(component_system, name='cond_detector')\n",
    "cond_detector.V = 1.5e-8\n",
    "cond_detector.c = [0]\n",
    "\n",
    "outlet = Outlet(component_system, name='outlet')\n",
    "\n",
    "# Flow Sheet\n",
    "fs = FlowSheet(component_system)\n",
    "fs.add_unit(acetone)\n",
    "fs.add_unit(water)\n",
    "fs.add_unit(inlet_valve)\n",
    "fs.add_unit(tubing)\n",
    "fs.add_unit(uv_detector)\n",
    "fs.add_unit(cond_detector)\n",
    "fs.add_unit(outlet)\n",
    "\n",
    "fs.add_connection(acetone, inlet_valve)\n",
    "fs.add_connection(water, inlet_valve)\n",
    "fs.add_connection(inlet_valve, tubing)\n",
    "fs.add_connection(tubing, uv_detector)\n",
    "fs.add_connection(uv_detector, cond_detector)\n",
    "fs.add_connection(cond_detector, outlet)\n",
    "\n",
    "# Process\n",
    "process = Process(fs, 'Acetone_Pulse_no_column')\n",
    "process.cycle_time = 170\n",
    "\n",
    "process.add_event('pulse_acetone_on', 'flow_sheet.acetone.flow_rate', Q_m3_s, 0)\n",
    "process.add_event('pulse_acetone_off', 'flow_sheet.acetone.flow_rate', 0, V_tracer/Q_m3_s)\n",
    "\n",
    "process.add_event('feed_water_on', 'flow_sheet.water.flow_rate', Q_m3_s, V_tracer/Q_m3_s)\n",
    "process.add_event('feed_water_off', 'flow_sheet.water.flow_rate', 0, process.cycle_time)"
   ]
  },
  {
   "cell_type": "code",
   "execution_count": null,
   "id": "ecf12343",
   "metadata": {
    "tags": [
     "solution"
    ]
   },
   "outputs": [],
   "source": []
  },
  {
   "cell_type": "code",
   "execution_count": null,
   "id": "64db3c93",
   "metadata": {
    "tags": [
     "solution"
    ]
   },
   "outputs": [],
   "source": []
  },
  {
   "cell_type": "code",
   "execution_count": null,
   "id": "1e67820f",
   "metadata": {
    "tags": [
     "solution"
    ]
   },
   "outputs": [],
   "source": []
  },
  {
   "cell_type": "code",
   "execution_count": null,
   "id": "5a9355bb",
   "metadata": {
    "tags": [
     "solution"
    ]
   },
   "outputs": [],
   "source": []
  },
  {
   "cell_type": "code",
   "execution_count": null,
   "id": "19514df6",
   "metadata": {
    "tags": [
     "solution"
    ]
   },
   "outputs": [],
   "source": []
  },
  {
   "cell_type": "code",
   "execution_count": null,
   "id": "534dd6bb",
   "metadata": {
    "tags": [
     "solution"
    ]
   },
   "outputs": [],
   "source": []
  },
  {
   "cell_type": "code",
   "execution_count": null,
   "id": "32ea8bd2",
   "metadata": {
    "tags": [
     "solution"
    ]
   },
   "outputs": [],
   "source": []
  },
  {
   "cell_type": "markdown",
   "id": "653d90b1",
   "metadata": {
    "slideshow": {
     "slide_type": "fragment"
    }
   },
   "source": [
    "```{note}\n",
    "It's also possible to add multiple references, e.g. for triplicate experiments or for different sensors.\n",
    "```"
   ]
  }
 ],
 "metadata": {
  "kernelspec": {
   "display_name": "Python 3 (ipykernel)",
   "language": "python",
   "name": "python3"
  }
 },
 "nbformat": 4,
 "nbformat_minor": 5
}
