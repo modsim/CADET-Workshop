{
 "cells": [
  {
   "cell_type": "markdown",
   "id": "ed266762",
   "metadata": {},
   "source": [
    "# Parameter Estimation\n",
    "One important aspect in modelling is parameter estimation.\n",
    "For this purpose, model parameters are varied until the simulated output matches some reference (usually experimental data).\n",
    "To quantify the difference between simulation and reference, **CADET-Process** provides a `comparison` module."
   ]
  },
  {
   "cell_type": "markdown",
   "id": "dad89702",
   "metadata": {
    "slideshow": {
     "slide_type": "fragment"
    }
   },
   "source": [
    "Consider a simple tracer pulse injection onto a chromatographic column.\n",
    "The following (experimental) concentration profile is measured at the column outlet."
   ]
  },
  {
   "cell_type": "code",
   "execution_count": null,
   "id": "4ec4fc80",
   "metadata": {},
   "outputs": [],
   "source": [
    "import numpy as np\n",
    "data = np.loadtxt('./experimental_data/non_pore_penetrating_tracer.csv', delimiter=',')\n",
    "time_experiment = data[:, 0]\n",
    "dextran_experiment = data[:, 1]\n",
    "\n",
    "import matplotlib.pyplot as plt\n",
    "_ = plt.plot(time_experiment, dextran_experiment)"
   ]
  },
  {
   "cell_type": "markdown",
   "id": "d8953c11",
   "metadata": {
    "slideshow": {
     "slide_type": "fragment"
    }
   },
   "source": [
    "The goal is to determine the bed porosity of the column, as well the axial dispersion.\n",
    "Other process parameters like the column geometry and particle sizes are assumed to be known."
   ]
  },
  {
   "cell_type": "markdown",
   "id": "7713443e",
   "metadata": {
    "slideshow": {
     "slide_type": "slide"
    }
   },
   "source": [
    "## References\n",
    "To properly work with **CADET-Process**, the experimental data needs to be converted to an internal standard.\n",
    "The `reference` module provides different classes for different types of experiments.\n",
    "For in- and outgoing streams of unit operations, the `ReferenceIO` class must be used."
   ]
  },
  {
   "cell_type": "code",
   "execution_count": null,
   "id": "ea57c42a",
   "metadata": {},
   "outputs": [],
   "source": [
    "from CADETProcess.reference import ReferenceIO\n",
    "\n",
    "reference = ReferenceIO('dextran experiment', time_experiment, dextran_experiment)"
   ]
  },
  {
   "cell_type": "markdown",
   "id": "9e7463df",
   "metadata": {
    "slideshow": {
     "slide_type": "fragment"
    }
   },
   "source": [
    "Similarly to the `SolutionIO` class, the `ReferenceIO` class also provides a plot method:"
   ]
  },
  {
   "cell_type": "code",
   "execution_count": null,
   "id": "e85b069f",
   "metadata": {},
   "outputs": [],
   "source": [
    "_ = reference.plot()"
   ]
  },
  {
   "cell_type": "markdown",
   "id": "2fbd58a3",
   "metadata": {
    "slideshow": {
     "slide_type": "slide"
    }
   },
   "source": [
    "## Comparator\n",
    "\n",
    "The `Comparator` class comparing the simulation output with experimental data. It provides several methods for visualizing and analyzing the differences between the data sets. Users can choose from a range of metrics to quantify the differences between the two data sets, such as sum squared errors or shape comparison."
   ]
  },
  {
   "cell_type": "code",
   "execution_count": null,
   "id": "e0d43770",
   "metadata": {
    "tags": [
     "solution"
    ]
   },
   "outputs": [],
   "source": [
    "from CADETProcess.comparison import Comparator\n",
    "comparator = Comparator()\n",
    "\n",
    "comparator.add_reference(reference)"
   ]
  },
  {
   "cell_type": "markdown",
   "id": "842c19a0",
   "metadata": {
    "slideshow": {
     "slide_type": "fragment"
    }
   },
   "source": [
    "```{note}\n",
    "It's also possible to add multiple references, e.g. for triplicate experiments or for different sensors.\n",
    "```"
   ]
  },
  {
   "cell_type": "markdown",
   "id": "8d7c137a",
   "metadata": {
    "slideshow": {
     "slide_type": "slide"
    }
   },
   "source": [
    "## Difference Metrics\n",
    "There are many metrics which can be used to quantify the difference between the simulation and the reference.\n",
    "Most commonly, the sum squared error (SSE) is used."
   ]
  },
  {
   "cell_type": "markdown",
   "id": "d1bf8924",
   "metadata": {
    "slideshow": {
     "slide_type": "fragment"
    }
   },
   "source": [
    "However, SSE is often not an ideal measurement for chromatography.\n",
    "Because of experimental non-idealities like pump delays and fluctuations in flow rate there is a tendency for the peaks to shift in time.\n",
    "This causes the optimizer to favour peak position over peak shape and can lead for example to an overestimation of axial dispersion.\n",
    "\n",
    "In contrast, the peak shape is dictated by the physics of the physico-chemical interactions while the position can shift slightly due to systematic errors like pump delays.\n",
    "Hence, a metric which prioritizes the shape of the peaks being accurate over the peak eluting exactly at the correct time is preferable.\n",
    "For this purpose, **CADET-Process** offers a `Shape` metric."
   ]
  },
  {
   "cell_type": "markdown",
   "id": "883be31e",
   "metadata": {
    "jupyterlab-deck": {
     "layer": "fragment"
    }
   },
   "source": [
    "To add a difference metric, the following arguments need to be passed to the `add_difference_metric` method:\n",
    "- `difference_metric`: The type of the metric.\n",
    "- `reference`: The reference which should be used for the metric.\n",
    "- `solution_path`: The path to the corresponding solution in the simulation results."
   ]
  },
  {
   "cell_type": "code",
   "execution_count": null,
   "id": "32c19376",
   "metadata": {},
   "outputs": [],
   "source": [
    "comparator.add_difference_metric('SSE', reference, 'column.outlet')"
   ]
  },
  {
   "cell_type": "markdown",
   "id": "c469f60b",
   "metadata": {
    "slideshow": {
     "slide_type": "fragment"
    }
   },
   "source": [
    "Optionally, a start and end time can be specified to only evaluate the difference metric at that slice.\n",
    "This is particularly useful if system noise (e.g. injection peaks) should be ignored or if certain peaks correspond to certain components."
   ]
  },
  {
   "cell_type": "code",
   "execution_count": null,
   "id": "c00ef0d6",
   "metadata": {},
   "outputs": [],
   "source": [
    "comparator = Comparator()\n",
    "comparator.add_reference(reference)\n",
    "comparator.add_difference_metric(\n",
    "    'SSE', reference, 'column.outlet', start=5*60, end=7*60\n",
    ")"
   ]
  },
  {
   "cell_type": "markdown",
   "id": "8d8cba85",
   "metadata": {
    "slideshow": {
     "slide_type": "slide"
    }
   },
   "source": [
    "## Reference Model\n",
    "\n",
    "Next to the experimental data, a reference model needs to be configured.\n",
    "It must include relevant details s.t. it is capable of accurately predicting the experimental system (e.g. tubing, valves etc.).\n",
    "For this example, the full process configuration can be found {ref}`here <dextran_pulse_example>`.\n",
    "\n",
    "As an initial guess, the bed porosity is set to $0.4$, and the axial dispersion to $1.0 \\cdot 10^{-7}$.\n",
    "After process simulation, the `evaluate` method is called with the simulation results."
   ]
  },
  {
   "cell_type": "code",
   "execution_count": null,
   "id": "e06ec4e1",
   "metadata": {
    "tags": [
     "solution"
    ]
   },
   "outputs": [],
   "source": [
    "from CADETProcess.simulator import Cadet\n",
    "simulator = Cadet()\n",
    "\n",
    "from examples.characterize_chromatographic_system.column_transport_parameters import process\n",
    "simulation_results = simulator.simulate(process)\n",
    "\n",
    "metrics = comparator.evaluate(simulation_results)\n",
    "print(metrics)"
   ]
  },
  {
   "cell_type": "markdown",
   "id": "0368ad74",
   "metadata": {
    "slideshow": {
     "slide_type": "fragment"
    }
   },
   "source": [
    "The difference can also be visualized:"
   ]
  },
  {
   "cell_type": "code",
   "execution_count": null,
   "id": "089bc790",
   "metadata": {
    "tags": [
     "solution"
    ]
   },
   "outputs": [],
   "source": [
    "_ = comparator.plot_comparison(simulation_results)"
   ]
  },
  {
   "cell_type": "markdown",
   "id": "b9051ae1",
   "metadata": {
    "slideshow": {
     "slide_type": "fragment"
    }
   },
   "source": [
    "The comparison shows that there is still a large discrepancy between simulation and experiment.\n",
    "Instead of manually adjusting these parameters, an `OptimizationProblem` can be set up which automatically determines the parameter values."
   ]
  }
 ],
 "metadata": {
  "kernelspec": {
   "display_name": "Python 3 (ipykernel)",
   "language": "python",
   "name": "python3"
  }
 },
 "nbformat": 4,
 "nbformat_minor": 5
}
