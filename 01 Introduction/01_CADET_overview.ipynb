{
 "cells": [
  {
   "cell_type": "markdown",
   "id": "9a6e458b",
   "metadata": {
    "slideshow": {
     "slide_type": "slide"
    }
   },
   "source": [
    "# CADET Overview\n",
    "\n",
    "```{figure} ./resources/cadet_overview.png\n",
    ":width: 75%\n",
    "```"
   ]
  },
  {
   "cell_type": "markdown",
   "id": "30f08dc1",
   "metadata": {
    "slideshow": {
     "slide_type": "slide"
    }
   },
   "source": [
    "## Process Model\n",
    "\n",
    "```{figure} ./resources/batch_elution.svg\n",
    ":width: 50%\n",
    ":align: center\n",
    "\n",
    "```"
   ]
  },
  {
   "cell_type": "markdown",
   "id": "041cc910",
   "metadata": {
    "slideshow": {
     "slide_type": "slide"
    }
   },
   "source": [
    "## Process Model\n",
    "\n",
    "```{figure} ./resources/batch_elution_process_model.svg\n",
    ":width: 50%\n",
    ":align: center\n",
    "\n",
    "```"
   ]
  },
  {
   "cell_type": "markdown",
   "id": "7439effe",
   "metadata": {
    "slideshow": {
     "slide_type": "slide"
    }
   },
   "source": [
    "## Simulation\n",
    "\n",
    "```{figure} ./resources/simulation.png\n",
    ":align: center\n",
    ":width: 50%\n",
    "```"
   ]
  },
  {
   "cell_type": "markdown",
   "id": "758b7dd4",
   "metadata": {
    "slideshow": {
     "slide_type": "fragment"
    }
   },
   "source": [
    "```{figure} ./resources/simulation_results.png\n",
    ":align: center\n",
    ":width: 50%\n",
    "```"
   ]
  },
  {
   "cell_type": "markdown",
   "id": "2663651b",
   "metadata": {
    "slideshow": {
     "slide_type": "slide"
    }
   },
   "source": [
    "## Simulation: Cyclic Stationarity\n",
    "\n",
    "```{figure} ./resources/stationarity.png\n",
    ":align: center\n",
    ":width: 50%\n",
    "```"
   ]
  },
  {
   "cell_type": "markdown",
   "id": "6bb8eedf",
   "metadata": {
    "slideshow": {
     "slide_type": "fragment"
    }
   },
   "source": [
    "```{figure} ./resources/simulation_results_cyclic.png\n",
    ":align: center\n",
    ":width: 33%\n",
    "```"
   ]
  },
  {
   "cell_type": "markdown",
   "id": "054f7d4a",
   "metadata": {
    "slideshow": {
     "slide_type": "slide"
    }
   },
   "source": [
    "## Post Processing\n",
    "\n",
    "```{figure} ./resources/post_processing.png\n",
    ":align: center\n",
    ":width: 750\n",
    "```"
   ]
  },
  {
   "cell_type": "markdown",
   "id": "5da6162c",
   "metadata": {
    "slideshow": {
     "slide_type": "slide"
    }
   },
   "source": [
    "## Post Processing: Fractionation\n",
    "\n",
    "```{figure} ./resources/fractionator.png\n",
    ":align: center\n",
    ":width: 750\n",
    "```"
   ]
  },
  {
   "cell_type": "markdown",
   "id": "6dd6a864",
   "metadata": {},
   "source": [
    "```{figure} ./resources/fractionation.png\n",
    ":align: center\n",
    ":width: 50%\n",
    "```"
   ]
  },
  {
   "cell_type": "markdown",
   "id": "0f7cf142",
   "metadata": {
    "slideshow": {
     "slide_type": "slide"
    }
   },
   "source": [
    "## Post Processing - Comparison with experimental data\n",
    "\n",
    "```{figure} ./resources/comparator.png\n",
    ":align: center\n",
    ":width: 750\n",
    "```"
   ]
  },
  {
   "cell_type": "markdown",
   "id": "b4287a13",
   "metadata": {},
   "source": [
    "```{figure} ./resources/comparison.png\n",
    ":align: center\n",
    ":width: 50%\n",
    "```"
   ]
  },
  {
   "cell_type": "markdown",
   "id": "2f9d019b",
   "metadata": {
    "slideshow": {
     "slide_type": "slide"
    }
   },
   "source": [
    "## Optimization\n",
    "\n",
    "```{figure} ./resources/optimization.png\n",
    ":align: center\n",
    ":width: 50%\n",
    "```"
   ]
  },
  {
   "cell_type": "markdown",
   "id": "4290be84",
   "metadata": {
    "slideshow": {
     "slide_type": "slide"
    }
   },
   "source": [
    "## Optimization - Parameter Estimation\n",
    "\n",
    "```{figure} ./resources/parameter_estimation.png\n",
    ":align: center\n",
    ":width: 90%\n",
    "``````"
   ]
  },
  {
   "cell_type": "markdown",
   "id": "44299608",
   "metadata": {
    "slideshow": {
     "slide_type": "slide"
    }
   },
   "source": [
    "## Optimization - Process Optimization\n",
    "\n",
    "```{figure} ./resources/process_optimization.png\n",
    ":align: center\n",
    ":width: 90%\n",
    "``````"
   ]
  },
  {
   "cell_type": "markdown",
   "id": "ba74bae4",
   "metadata": {
    "slideshow": {
     "slide_type": "slide"
    }
   },
   "source": [
    "# Further Resources\n",
    "\n",
    "## General Information\n",
    "- **Website**: https://cadet-web.de\n",
    "- **User Forum**: https://forum.cadet-web.de\n",
    "- **JupyterHub**: https://jupyter.cadet-web.de\n",
    "\n",
    "## CADET-Core\n",
    "- **Source Code**: https://github.com/modsim/cadet\n",
    "- **Documentation**: https://cadet.github.io\n",
    "- **Tutorials**: https://github.com/modsim/cadet-tutorial\n",
    "\n",
    "## CADET-Process\n",
    "- **Source Code**: https://github.com/fau-advanced-separations/cadet-process\n",
    "- **Documentation**: https://cadet-process.readthedocs.io/en/latest/\n",
    "- **Tutorials**: https://github.com/modsim/cadet-workshop"
   ]
  }
 ],
 "metadata": {
  "kernelspec": {
   "display_name": "Python 3 (ipykernel)",
   "language": "python",
   "name": "python3"
  }
 },
 "nbformat": 4,
 "nbformat_minor": 5
}
