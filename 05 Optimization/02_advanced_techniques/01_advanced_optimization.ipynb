{
 "cells": [
  {
   "cell_type": "markdown",
   "id": "d4b5fe01",
   "metadata": {
    "slideshow": {
     "slide_type": "slide"
    }
   },
   "source": [
    "# Advanced Optimization Techniques\n",
    "\n",
    "In this tutorial, we will look at some advanced techniques that can\n",
    "- improve convergence,\n",
    "- facilitate setting up complex optimization problems\n",
    "- provide usefull feedback during (long) optimization runs."
   ]
  },
  {
   "cell_type": "markdown",
   "id": "01ec35bf",
   "metadata": {
    "slideshow": {
     "slide_type": "slide"
    }
   },
   "source": [
    "## Parameter Normalization\n",
    "Most optimization algorithms struggle when optimization variables spread over multiple orders of magnitude.\n",
    "**CADET-Process** provides several transformation methods which can help to soften these challenges."
   ]
  },
  {
   "cell_type": "markdown",
   "id": "cd8eaa61",
   "metadata": {
    "slideshow": {
     "slide_type": "fragment"
    }
   },
   "source": [
    "```{figure} ./figures/transform.png\n",
    "```"
   ]
  },
  {
   "cell_type": "markdown",
   "id": "32325a88",
   "metadata": {
    "slideshow": {
     "slide_type": "slide"
    }
   },
   "source": [
    "### Linear Normalization\n",
    "The linear normalization maps the variable space from the lower and upper bound to a range between $0$ and $1$ by applying the following transformation:\n",
    "\n",
    "$$\n",
    "x^\\prime = \\frac{x - x_{lb}}{x_{ub} - x_{lb}}\n",
    "$$"
   ]
  },
  {
   "cell_type": "code",
   "execution_count": null,
   "id": "b4d93fda",
   "metadata": {
    "tags": [
     "solution"
    ]
   },
   "outputs": [],
   "source": []
  },
  {
   "cell_type": "markdown",
   "id": "4de983a2",
   "metadata": {
    "slideshow": {
     "slide_type": "slide"
    }
   },
   "source": [
    "### Log Normalization\n",
    "The log normalization maps the variable space from the lower and upper bound to a range between $0$ and $1$ by applying the following transformation:\n",
    "\n",
    "$$\n",
    "x^\\prime = \\frac{log \\left( \\frac{x}{x_{lb}} \\right) }{log \\left( \\frac{x_{ub} }{x_{lb}} \\right) }\n",
    "$$"
   ]
  },
  {
   "cell_type": "code",
   "execution_count": null,
   "id": "46cafbfd",
   "metadata": {
    "tags": [
     "solution"
    ]
   },
   "outputs": [],
   "source": []
  },
  {
   "cell_type": "markdown",
   "id": "07e0e8c0",
   "metadata": {
    "slideshow": {
     "slide_type": "slide"
    }
   },
   "source": [
    "### Auto Transform\n",
    "This transform will automatically switch between a linear and a log transform if the ratio of upper and lower bounds is larger than some value ($1000$ by default)."
   ]
  },
  {
   "cell_type": "code",
   "execution_count": null,
   "id": "9a994a04",
   "metadata": {
    "tags": [
     "solution"
    ]
   },
   "outputs": [],
   "source": []
  },
  {
   "cell_type": "markdown",
   "id": "f2c34542",
   "metadata": {
    "slideshow": {
     "slide_type": "slide"
    }
   },
   "source": [
    "# Evaluation Toolchains\n",
    "\n",
    "In many situations, some pre- and postprocessing steps are required before the objective function can be evaluated."
   ]
  },
  {
   "cell_type": "markdown",
   "id": "4f39f63f",
   "metadata": {},
   "source": [
    "```{figure} ./figures/evaluation_example.png\n",
    "```"
   ]
  },
  {
   "cell_type": "markdown",
   "id": "47da2dbf",
   "metadata": {
    "slideshow": {
     "slide_type": "slide"
    }
   },
   "source": [
    "## Evaluation Objects\n",
    "\n",
    "```{figure} ./figures/evaluation_steps.png\n",
    "```\n",
    "\n",
    "- `OptimizationVariables` usually refers to attributes of a `Process` model (e.g. model parameters / event times.\n",
    "- `EvaluationObject` objects manage the value of that optimization variable\n",
    "- `Evaluators` execute (intermediate) steps required for calculating the objective (e.g. simulation)"
   ]
  },
  {
   "cell_type": "markdown",
   "id": "45a3925a",
   "metadata": {
    "slideshow": {
     "slide_type": "slide"
    }
   },
   "source": [
    "```{figure} ./figures/evaluation_single_variable.png\n",
    ":width: 30%\n",
    "```\n",
    "\n",
    "\n",
    "To associate an `OptimizationVariable` with an `EvaluationObject`, it first needs to be added to the `OptimizationProblem`.\n",
    "For this purpose, consider a simple `Process` object from the [examples collection](https://cadet-process.readthedocs.io/en/stable/examples/batch_elution/process.html)."
   ]
  },
  {
   "cell_type": "code",
   "execution_count": null,
   "id": "4e4063c5",
   "metadata": {
    "tags": [
     "solution"
    ]
   },
   "outputs": [],
   "source": []
  },
  {
   "cell_type": "markdown",
   "id": "75ae29f4",
   "metadata": {
    "slideshow": {
     "slide_type": "fragment"
    }
   },
   "source": [
    "Then add the variable. In addition, specify:\n",
    "\n",
    "- `parameter_path`: Path to the variable in the evaluation object\n",
    "- `evaluation_objects`: The evaluation object(s) for which the variable should be set."
   ]
  },
  {
   "cell_type": "code",
   "execution_count": null,
   "id": "da3ef669",
   "metadata": {
    "tags": [
     "solution"
    ]
   },
   "outputs": [],
   "source": []
  },
  {
   "cell_type": "markdown",
   "id": "d69a7cde",
   "metadata": {
    "slideshow": {
     "slide_type": "slide"
    }
   },
   "source": [
    "## Multiple Evaluation Objects\n",
    "\n",
    "```{figure} ./figures/evaluation_multiple_variables.png\n",
    ":width: 30%\n",
    "```"
   ]
  },
  {
   "cell_type": "code",
   "execution_count": null,
   "id": "558d4f75",
   "metadata": {
    "tags": [
     "solution"
    ]
   },
   "outputs": [],
   "source": []
  },
  {
   "cell_type": "markdown",
   "id": "a319f60a",
   "metadata": {
    "slideshow": {
     "slide_type": "slide"
    }
   },
   "source": [
    "### Evaluators\n",
    "Any callable function can be added as `Evaluator`, assuming the first argument is the result of the previous step and it returns a single result object which is then processed by the next step.\n",
    "\n",
    "```{figure} ./figures/evaluation_steps.png\n",
    "```\n",
    "\n",
    "- Any callable function can be added as `Evaluator`.\n",
    "- Each `Evaluator` takes the previous result as input and returns a new (intermediate) result.\n",
    "- Intermediate results are automatically cached."
   ]
  },
  {
   "cell_type": "markdown",
   "id": "1afbc0cf",
   "metadata": {
    "slideshow": {
     "slide_type": "slide"
    }
   },
   "source": [
    "## Evaluator Example\n",
    "\n",
    "In this example, two steps are required:\n",
    "- Process Simulation\n",
    "- Fractionation"
   ]
  },
  {
   "cell_type": "code",
   "execution_count": null,
   "id": "8daf062f",
   "metadata": {
    "slideshow": {
     "slide_type": "slide"
    },
    "tags": [
     "solution"
    ]
   },
   "outputs": [],
   "source": []
  },
  {
   "cell_type": "markdown",
   "id": "7e71bb9e",
   "metadata": {
    "slideshow": {
     "slide_type": "slide"
    }
   },
   "source": [
    "## Adding Objectives\n",
    "\n",
    "Now, when adding objectives, specify which steps are required for each objective"
   ]
  },
  {
   "cell_type": "code",
   "execution_count": null,
   "id": "5af15d4c",
   "metadata": {
    "tags": [
     "solution"
    ]
   },
   "outputs": [],
   "source": []
  },
  {
   "cell_type": "markdown",
   "id": "a7c7d459",
   "metadata": {
    "slideshow": {
     "slide_type": "slide"
    }
   },
   "source": [
    "## Evaluate Toolchain\n",
    "\n",
    "To check the toolchain, simply call `evaluate_objectives`"
   ]
  },
  {
   "cell_type": "code",
   "execution_count": null,
   "id": "88830ba3",
   "metadata": {
    "tags": [
     "solution"
    ]
   },
   "outputs": [],
   "source": []
  },
  {
   "cell_type": "code",
   "execution_count": null,
   "id": "1c54acc0",
   "metadata": {},
   "outputs": [],
   "source": [
    "optimization_problem.objective_labels"
   ]
  },
  {
   "cell_type": "markdown",
   "id": "34e9d908",
   "metadata": {
    "slideshow": {
     "slide_type": "fragment"
    }
   },
   "source": [
    "```{error} \n",
    "\n",
    "This should take into account the evaluation objects!\n",
    "Let's learn how to report a bug!\n",
    "```"
   ]
  },
  {
   "cell_type": "markdown",
   "id": "edb32f71",
   "metadata": {
    "slideshow": {
     "slide_type": "slide"
    }
   },
   "source": [
    "## Callbacks\n",
    "A `callback` function is a user function that is called periodically by the optimizer in order to allow the user to query the state of the optimization.\n",
    "For example, a simple user callback function might be used to plot results.\n",
    "The function is called after each iteration for all best individuals at that state.\n",
    "\n",
    "```{figure} ./figures/callbacks_evaluation.png\n",
    "```"
   ]
  },
  {
   "cell_type": "markdown",
   "id": "e36ca381",
   "metadata": {
    "slideshow": {
     "slide_type": "slide"
    }
   },
   "source": [
    "The callback signature may include any of the following arguments:\n",
    "- `results`: obj\n",
    "\n",
    "    x or final result of evaluation toolchain.\n",
    "- `individual`: {class}`Individual`, optional\n",
    "\n",
    "    Information about current step of optimzer.\n",
    "- `evaluation_object`: obj, optional\n",
    "\n",
    "    Current evaluation object.\n",
    "- `callbacks_dir`: Path, optional\n",
    "\n",
    "    Path to store results."
   ]
  },
  {
   "cell_type": "code",
   "execution_count": null,
   "id": "9527ffd8",
   "metadata": {
    "tags": [
     "solution"
    ]
   },
   "outputs": [],
   "source": []
  },
  {
   "cell_type": "markdown",
   "id": "d41a0cbc",
   "metadata": {
    "slideshow": {
     "slide_type": "fragment"
    }
   },
   "source": [
    "To add the function to the `OptimizationProblem`, use the `add_callback` method.\n",
    "Analogous to objectives,"
   ]
  },
  {
   "cell_type": "code",
   "execution_count": null,
   "id": "4528e0fb",
   "metadata": {
    "tags": [
     "solution"
    ]
   },
   "outputs": [],
   "source": []
  }
 ],
 "metadata": {
  "kernelspec": {
   "display_name": "Python 3 (ipykernel)",
   "language": "python",
   "name": "python3"
  }
 },
 "nbformat": 4,
 "nbformat_minor": 5
}
