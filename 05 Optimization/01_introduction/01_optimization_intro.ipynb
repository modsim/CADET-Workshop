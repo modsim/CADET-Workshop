{
 "cells": [
  {
   "cell_type": "markdown",
   "id": "d03b132f",
   "metadata": {
    "slideshow": {
     "slide_type": "slide"
    }
   },
   "source": [
    "# Optimization\n",
    "\n",
    "One of the main applications of **CADET-Process** is performing optimization studies.\n",
    "Optimization refers to the selection of a solution with regard to some criterion.\n",
    "In the simplest case, an optimization problem consists of minimizing some function $f(x)$ by systematically varying the input values $x$ and computing the value of that function.\n",
    "\n",
    "$$\n",
    "\\min_x f(x)\n",
    "$$"
   ]
  },
  {
   "cell_type": "markdown",
   "id": "2e0cd6a0",
   "metadata": {
    "slideshow": {
     "slide_type": "fragment"
    }
   },
   "source": [
    "In the context of physico-chemical processes, examples for the application of optimization studies include scenarios such as process optimization and parameter estimation.\n",
    "Here, often many variables are subject to optimization, multiple criteria have to be balanced, and additional linear and nonlinear constraints need to be considered.\n",
    "\n",
    "$$\n",
    "\\min_x f(x) \\\\\n",
    "s.t. \\\\\n",
    "    g(x) \\le 0, \\\\\n",
    "    h(x) = 0, \\\\\n",
    "    x \\in \\mathbb{R}^n \\\\\n",
    "$$\n",
    "\n",
    "\n",
    "where $g$ summarizes all inequality constraint functions, and $h$ equality constraints."
   ]
  },
  {
   "cell_type": "markdown",
   "id": "3d8e2923",
   "metadata": {
    "slideshow": {
     "slide_type": "slide"
    }
   },
   "source": [
    "In the following, the `optimization` module of **CADET-Process** is introduced. To decouple the problem formulation from the problem solution, two classes are provided:\n",
    "- An `OptimizationProblem` class to specify optimization variables, objectives and constraints, and\n",
    "- an abstract `Optimizer` interface which allows using different external optimizers to solve the problem."
   ]
  },
  {
   "cell_type": "markdown",
   "id": "29952751",
   "metadata": {
    "slideshow": {
     "slide_type": "slide"
    }
   },
   "source": [
    "## Example 1: Minimization of a quadratic function\n",
    "\n",
    "Usually, the objective function is not known; it can only be evaluated at certain points.\n",
    "For demonstration purpouses, consider a quadratic function to be minimized.\n",
    "\n",
    "$$\n",
    "f(x) = x^2\n",
    "$$"
   ]
  },
  {
   "cell_type": "markdown",
   "id": "0dcbd568",
   "metadata": {},
   "source": [
    "Since we already know a lot about this function, it can help to introduce some of the Optimization concepts of CADET-Process.\n",
    "For example, the results should yield:\n",
    "- $x_{opt} = 0$\n",
    "- $f_{opt} = 0$."
   ]
  },
  {
   "cell_type": "code",
   "execution_count": null,
   "id": "bf2e2ba9",
   "metadata": {
    "tags": [
     "solution"
    ]
   },
   "outputs": [],
   "source": [
    "%matplotlib inline\n",
    "\n",
    "import numpy as np\n",
    "import matplotlib.pyplot as plt\n",
    "\n",
    "x = np.linspace(-10, 10, 101)\n",
    "y = x**2\n",
    "\n",
    "fig, ax = plt.subplots(figsize=(3, 3))\n",
    "ax.plot(x, y)"
   ]
  },
  {
   "cell_type": "markdown",
   "id": "99ef78e9",
   "metadata": {
    "slideshow": {
     "slide_type": "slide"
    }
   },
   "source": [
    "### OptimizationProblem\n",
    "\n",
    "The `OptimizationProblem` class is is used to specify optimization variables, objectives and constraints.\n",
    "After import, the `OptimizationProblem` initialized with a name."
   ]
  },
  {
   "cell_type": "code",
   "execution_count": null,
   "id": "5928e752",
   "metadata": {
    "tags": [
     "solution"
    ]
   },
   "outputs": [],
   "source": [
    "from CADETProcess.optimization import OptimizationProblem\n",
    "\n",
    "optimization_problem = OptimizationProblem('quadratic')"
   ]
  },
  {
   "cell_type": "markdown",
   "id": "03c1a548",
   "metadata": {
    "slideshow": {
     "slide_type": "fragment"
    }
   },
   "source": [
    "#### Optimization Variables\n",
    "Any number of variables can be added to the `OptimizationProblem`.\n",
    "To add a variable, use the `add_variable` method.\n",
    "In this case, there is only a single variable.\n",
    "The first argument is the name of the variable.\n",
    "Moreover, lower and upper bounds can be specified."
   ]
  },
  {
   "cell_type": "code",
   "execution_count": null,
   "id": "74f94aee",
   "metadata": {
    "tags": [
     "solution"
    ]
   },
   "outputs": [],
   "source": [
    "optimization_problem.add_variable(name='x', lb=-10, ub=10)"
   ]
  },
  {
   "cell_type": "markdown",
   "id": "e7be6ce2",
   "metadata": {
    "slideshow": {
     "slide_type": "fragment"
    }
   },
   "source": [
    "The total number of variables is stored in `n_variables` and the names in `variable_names`"
   ]
  },
  {
   "cell_type": "code",
   "execution_count": null,
   "id": "a4309295",
   "metadata": {
    "tags": [
     "solution"
    ]
   },
   "outputs": [],
   "source": [
    "print(optimization_problem.n_variables)\n",
    "print(optimization_problem.variable_names)"
   ]
  },
  {
   "cell_type": "markdown",
   "id": "66c72257",
   "metadata": {
    "slideshow": {
     "slide_type": "slide"
    }
   },
   "source": [
    "### Objectives\n",
    "Any `callable` (i.e. an object that can be called using the `( )` operator) can be added as an objective as long as it takes x as the first argument.\n",
    "Multi-objective optimization is also possible with CADET-Python (more on that later).\n",
    "For now, the objective must return a single, scalar value.\n",
    "\n",
    "```{note}\n",
    "Usually, there are multiple variables involved. Hence, the function is expected to accept a list.\n",
    "```"
   ]
  },
  {
   "cell_type": "code",
   "execution_count": null,
   "id": "e5d135f0",
   "metadata": {
    "tags": [
     "solution"
    ]
   },
   "outputs": [],
   "source": [
    "def objective_fun(x):\n",
    "    return x[0] ** 2\n",
    "\n",
    "optimization_problem.add_objective(objective_fun)"
   ]
  },
  {
   "cell_type": "markdown",
   "id": "66b35e3f",
   "metadata": {
    "slideshow": {
     "slide_type": "fragment"
    }
   },
   "source": [
    "To evaluate the this function, the `evaluate_objective` method can be used.\n",
    "This is useful to test whether everything works as expected."
   ]
  },
  {
   "cell_type": "code",
   "execution_count": null,
   "id": "412412f3",
   "metadata": {
    "tags": [
     "solution"
    ]
   },
   "outputs": [],
   "source": [
    "print(optimization_problem.evaluate_objectives([2]))"
   ]
  },
  {
   "cell_type": "markdown",
   "id": "cfe00f3e",
   "metadata": {
    "slideshow": {
     "slide_type": "notes"
    }
   },
   "source": [
    "If the value is out of bounds, an error will be thrown."
   ]
  },
  {
   "cell_type": "markdown",
   "id": "9a7277c1",
   "metadata": {
    "slideshow": {
     "slide_type": "slide"
    }
   },
   "source": [
    "### Optimizer\n",
    "The `OptimizerAdapter` provides a unified interface for using external optimization libraries.\n",
    "It is responsible for converting the `OptimizationProblem` to the specific API of the external `Optimizer`.\n",
    "Currently, adapters to **Pymoo** and **Scipy's** optimization suite are implemented, all of which are published under open source licenses that allow for academic as well as commercial use.\n",
    "\n",
    "Before the optimization can be run, the `Optimizer` needs to be initialized and configured.\n",
    "For this example, `U_NSGA3` is used, a genetic algorithm."
   ]
  },
  {
   "cell_type": "code",
   "execution_count": null,
   "id": "d4287a12",
   "metadata": {
    "tags": [
     "solution"
    ]
   },
   "outputs": [],
   "source": [
    "from CADETProcess.optimization import U_NSGA3\n",
    "\n",
    "optimizer = U_NSGA3()"
   ]
  },
  {
   "cell_type": "markdown",
   "id": "2f49646f",
   "metadata": {
    "slideshow": {
     "slide_type": "fragment"
    }
   },
   "source": [
    "All options can be displayed the following way:"
   ]
  },
  {
   "cell_type": "code",
   "execution_count": null,
   "id": "f6682900",
   "metadata": {
    "tags": [
     "solution"
    ]
   },
   "outputs": [],
   "source": [
    "print(optimizer.options)"
   ]
  },
  {
   "cell_type": "markdown",
   "id": "0c44d408",
   "metadata": {
    "slideshow": {
     "slide_type": "fragment"
    }
   },
   "source": [
    "To reduce the calculation time, let's limit the maximum number of generations that the `Optimizer` evaluates:"
   ]
  },
  {
   "cell_type": "code",
   "execution_count": null,
   "id": "c60aa61b",
   "metadata": {
    "tags": [
     "solution"
    ]
   },
   "outputs": [],
   "source": [
    "optimizer.n_max_gen = 10"
   ]
  },
  {
   "cell_type": "markdown",
   "id": "262c5fa6",
   "metadata": {
    "slideshow": {
     "slide_type": "slide"
    }
   },
   "source": [
    "To optimize the `OptimizationProblem`, call the `optimize()` method.\n",
    "By default, CADET-Process tries to autogenerate initial values.\n",
    "However, it's also possible to pass them as an additional `x0` argument.\n",
    "More on generating initial values later."
   ]
  },
  {
   "cell_type": "code",
   "execution_count": null,
   "id": "cd427be2",
   "metadata": {
    "tags": [
     "solution"
    ]
   },
   "outputs": [],
   "source": [
    "optimization_results = optimizer.optimize(optimization_problem, x0=1)"
   ]
  },
  {
   "cell_type": "markdown",
   "id": "b5854686",
   "metadata": {
    "slideshow": {
     "slide_type": "slide"
    }
   },
   "source": [
    "### Optimization Progress and Results\n",
    "\n",
    "The `OptimizationResults` which are returned contain information about the progress of the optimization.\n",
    "For example, the attributes `x` and `f` contain the final value(s) of parameters and the objective function."
   ]
  },
  {
   "cell_type": "code",
   "execution_count": null,
   "id": "e3ce8474",
   "metadata": {
    "tags": [
     "solution"
    ]
   },
   "outputs": [],
   "source": [
    "print(optimization_results.x)\n",
    "print(optimization_results.f)"
   ]
  },
  {
   "cell_type": "markdown",
   "id": "3f5488c6",
   "metadata": {
    "slideshow": {
     "slide_type": "slide"
    }
   },
   "source": [
    "After optimization, several figures can be plotted to vizualize the results.\n",
    "For example, the convergence plot shows how the function value changes with the number of evaluations."
   ]
  },
  {
   "cell_type": "code",
   "execution_count": null,
   "id": "55e74b57",
   "metadata": {
    "tags": [
     "solution"
    ]
   },
   "outputs": [],
   "source": [
    "optimization_results.plot_convergence('objectives')"
   ]
  },
  {
   "cell_type": "markdown",
   "id": "03802dfb",
   "metadata": {
    "slideshow": {
     "slide_type": "slide"
    }
   },
   "source": [
    "The `plot_objectives` method shows the objective function values of all evaluated individuals.\n",
    "Here, lighter color represent later evaluations.\n",
    "Note that by default the values are plotted on a log scale if they span many orders of magnitude.\n",
    "To disable this, set `autoscale=False`."
   ]
  },
  {
   "cell_type": "code",
   "execution_count": null,
   "id": "7fcb2a17",
   "metadata": {
    "tags": [
     "solution"
    ]
   },
   "outputs": [],
   "source": [
    "optimization_results.plot_objectives(autoscale=True)"
   ]
  },
  {
   "cell_type": "markdown",
   "id": "8c6ae1f1",
   "metadata": {
    "slideshow": {
     "slide_type": "slide"
    }
   },
   "source": [
    "Note that more figures are created for constrained optimization, as well as multi-objective optimization.\n",
    "All figures are also saved automatically in the `working_directory`.\n",
    "Moreover, results are stored in a `.csv` file.\n",
    "- The `results_all.csv` file contains information about all evaluated individuals.\n",
    "- The `results_last.csv` file contains information about the last generation of evaluated individuals.\n",
    "- The `results_pareto.csv` file contains only the best individual(s)."
   ]
  },
  {
   "cell_type": "markdown",
   "id": "68df3290",
   "metadata": {
    "slideshow": {
     "slide_type": "slide"
    }
   },
   "source": [
    "## Example 2: Constrained Optimization\n",
    "\n",
    "Example taken from [SciPy Documentation](https://docs.scipy.org/doc/scipy/tutorial/optimize.html#id34)\n",
    "\n",
    "As an example let us consider the constrained minimization of the Rosenbrock function:\n",
    "\n",
    "$$\n",
    "\\min_{x_0, x_1} & ~~100\\left(x_{1}-x_{0}^{2}\\right)^{2}+\\left(1-x_{0}\\right)^{2} &\\\\\n",
    "    \\text{subject to: } & x_0 + 2 x_1 \\leq 1 & \\\\\n",
    "                        & x_0^2 + x_1 \\leq 1  & \\\\\n",
    "                        & x_0^2 - x_1 \\leq 1  & \\\\\n",
    "                        & 2 x_0 + x_1 = 1 & \\\\\n",
    "                        & 0 \\leq  x_0  \\leq 1 & \\\\\n",
    "                        & -0.5 \\leq  x_1  \\leq 2.0. &\n",
    "$$"
   ]
  },
  {
   "cell_type": "markdown",
   "id": "df415f62",
   "metadata": {
    "slideshow": {
     "slide_type": "slide"
    }
   },
   "source": [
    "This optimization problem has the unique solution $[x_0, x_1] = [0.4149,~ 0.1701]$.\n",
    "\n",
    "```{figure} ./figures/rosenbrock.png\n",
    ":align: center\n",
    ":width: 50%\n",
    "\n",
    "```"
   ]
  },
  {
   "cell_type": "markdown",
   "id": "400e2555",
   "metadata": {
    "slideshow": {
     "slide_type": "slide"
    }
   },
   "source": [
    "To setup this problem, first a new `OptimizationProblem` is created and the variables are added, including bounds.\n",
    "It is important to note, that `x0` cannot be used as variable name since it is reserved for the initial values."
   ]
  },
  {
   "cell_type": "code",
   "execution_count": null,
   "id": "c7d60fcd",
   "metadata": {
    "tags": [
     "solution"
    ]
   },
   "outputs": [],
   "source": [
    "from CADETProcess.optimization import OptimizationProblem\n",
    "\n",
    "rosenbrock_problem = OptimizationProblem('rosenbrock')\n",
    "\n",
    "rosenbrock_problem.add_variable('x_0', lb=0, ub=1)\n",
    "rosenbrock_problem.add_variable('x_1', lb=-0.5, ub=2.0)"
   ]
  },
  {
   "cell_type": "markdown",
   "id": "0f1801ff",
   "metadata": {
    "slideshow": {
     "slide_type": "fragment"
    }
   },
   "source": [
    "Then, then objective function is defined and added."
   ]
  },
  {
   "cell_type": "code",
   "execution_count": null,
   "id": "c8783c1a",
   "metadata": {},
   "outputs": [],
   "source": [
    "def rosenbrock_objective(x):\n",
    "    x_0 = x[0]\n",
    "    x_1 = x[1]\n",
    "\n",
    "    return 100 * (x_1 - x_0 ** 2) ** 2 + (1 - x_0) ** 2\n",
    "\n",
    "\n",
    "rosenbrock_problem.add_objective(rosenbrock_objective)"
   ]
  },
  {
   "cell_type": "markdown",
   "id": "5924ee6c",
   "metadata": {
    "slideshow": {
     "slide_type": "slide"
    }
   },
   "source": [
    "### Linear inequality constraints\n",
    "Linear constraints are usually defined in the following way\n",
    "\n",
    "$$\n",
    "A \\cdot x \\leq b\n",
    "$$\n",
    "\n",
    "In **CADET-Process**, add each row $a$ of the constraint matrix needs to be added individually.\n",
    "The `add_linear_constraint` function takes the variables subject to the constraint as first argument.\n",
    "The left-hand side $a$ and the bound $b_a$ are passed as second and third argument.\n",
    "It is important to note that the column order in $a$ is inferred from the order in which the optimization variables are passed.\n",
    "\n",
    "To add the constraints of the Rosenbrock function to the optimization problem, add the following:"
   ]
  },
  {
   "cell_type": "code",
   "execution_count": null,
   "id": "2a07c487",
   "metadata": {
    "tags": [
     "solution"
    ]
   },
   "outputs": [],
   "source": [
    "rosenbrock_problem.add_linear_constraint(['x_0', 'x_1'], [1, 2], 1)"
   ]
  },
  {
   "cell_type": "markdown",
   "id": "45b963e4",
   "metadata": {
    "slideshow": {
     "slide_type": "slide"
    }
   },
   "source": [
    "To wheck if a point fulfils the linear inequality constraints, use the `check_linear_constraints` method.\n",
    "It returns `True` if the point is within bounds and `False` otherwise."
   ]
  },
  {
   "cell_type": "code",
   "execution_count": null,
   "id": "9b482485",
   "metadata": {
    "tags": [
     "solution"
    ]
   },
   "outputs": [],
   "source": [
    "rosenbrock_x0 = [0.5, 0]\n",
    "rosenbrock_problem.check_linear_constraints(rosenbrock_x0)"
   ]
  },
  {
   "cell_type": "markdown",
   "id": "e473ab0b",
   "metadata": {
    "slideshow": {
     "slide_type": "slide"
    }
   },
   "source": [
    "### Linear equality constraints\n",
    "Linear equality constraints are usually defined in the following way\n",
    "\n",
    "$$\n",
    "A_{eq} \\cdot x = b_{eq}\n",
    "$$\n",
    "\n",
    "In **CADET-Process**, add each row $a_{eq}$ of the constraint matrix needs to be added individually.\n",
    "The `add_linear_equality_constraint` function takes the variables subject to the constraint as first argument.\n",
    "The left-hand side $a_{eq}$ and the bound $b_{eq, a}$ are passed as second and third argument.\n",
    "It is important to note that the column order in $a$ is inferred from the order in which the optimization variables are passed.\n",
    "\n",
    "To add this constraint of the Rosenbrock function\n",
    "\n",
    "$$\n",
    "2 x_0 + x_1 = 1\n",
    "$$\n",
    "\n",
    "to the optimization problem, add the following:"
   ]
  },
  {
   "cell_type": "code",
   "execution_count": null,
   "id": "079aa911",
   "metadata": {
    "tags": [
     "solution"
    ]
   },
   "outputs": [],
   "source": [
    "rosenbrock_problem.add_linear_equality_constraint(['x_0', 'x_1'], lhs=[2, 1], beq=1, eps=1e-8)"
   ]
  },
  {
   "cell_type": "markdown",
   "id": "e2e1547b",
   "metadata": {
    "slideshow": {
     "slide_type": "slide"
    }
   },
   "source": [
    "To wheck if a point fulfils the linear equality constraints, use the `check_linear_equality_constraints` method.\n",
    "It returns `True` if the point is within bounds and `False` otherwise."
   ]
  },
  {
   "cell_type": "code",
   "execution_count": null,
   "id": "44850bd5",
   "metadata": {
    "tags": [
     "solution"
    ]
   },
   "outputs": [],
   "source": [
    "rosenbrock_problem.check_linear_equality_constraints(rosenbrock_x0)"
   ]
  },
  {
   "cell_type": "markdown",
   "id": "330bf63e",
   "metadata": {
    "slideshow": {
     "slide_type": "slide"
    }
   },
   "source": [
    "### Nonlinear constraints\n",
    "It is also possible to add nonlinear constraints to the `OptimizationProblem`.\n",
    "\n",
    "$$\n",
    "g(x) \\le 0 \\\\\n",
    "$$\n",
    "\n",
    "In contrast to linear constraints, and analogous to objective functions, nonlinear constraints need to be added as a callable functions.\n",
    "Note that multiple nonlinear constraints can be added.\n",
    "In addition to the function, lower or upper bounds can be added."
   ]
  },
  {
   "cell_type": "markdown",
   "id": "c09888a3",
   "metadata": {
    "slideshow": {
     "slide_type": "slide"
    }
   },
   "source": [
    "To add the constraints of the Rosenbrock function to the optimization problem, add the following."
   ]
  },
  {
   "cell_type": "code",
   "execution_count": null,
   "id": "a3ea9a15",
   "metadata": {
    "tags": [
     "solution"
    ]
   },
   "outputs": [],
   "source": [
    "def nonlincon_1(x):\n",
    "    x_0 = x[0]\n",
    "    x_1 = x[1]\n",
    "\n",
    "    return x_0 ** 2 + x_1\n",
    "\n",
    "\n",
    "rosenbrock_problem.add_nonlinear_constraint(nonlincon_1, bounds=[1])\n",
    "\n",
    "\n",
    "def nonlincon_2(x):\n",
    "    x_0 = x[0]\n",
    "    x_1 = x[1]\n",
    "\n",
    "    return x_0 ** 2 - x_1\n",
    "\n",
    "\n",
    "rosenbrock_problem.add_nonlinear_constraint(nonlincon_2, bounds=[1])"
   ]
  },
  {
   "cell_type": "markdown",
   "id": "382caece",
   "metadata": {
    "slideshow": {
     "slide_type": "slide"
    }
   },
   "source": [
    "Again, the function can be evaluated manually."
   ]
  },
  {
   "cell_type": "code",
   "execution_count": null,
   "id": "020a6abb",
   "metadata": {
    "tags": [
     "solution"
    ]
   },
   "outputs": [],
   "source": [
    "rosenbrock_problem.check_nonlinear_constraints(rosenbrock_x0)"
   ]
  },
  {
   "cell_type": "markdown",
   "id": "e555b547",
   "metadata": {
    "slideshow": {
     "slide_type": "slide"
    }
   },
   "source": [
    "### Optimizer\n",
    "To solve this problem, a **trust region method** is used, here:"
   ]
  },
  {
   "cell_type": "code",
   "execution_count": null,
   "id": "ed0535f4",
   "metadata": {
    "tags": [
     "solution"
    ]
   },
   "outputs": [],
   "source": [
    "from CADETProcess.optimization import TrustConstr\n",
    "\n",
    "trust_const_optimizer = TrustConstr()\n",
    "\n",
    "rosenbrock_optimization_results = trust_const_optimizer.optimize(\n",
    "    rosenbrock_problem,\n",
    "    x0=rosenbrock_x0\n",
    ")"
   ]
  },
  {
   "cell_type": "markdown",
   "id": "a9152f2e",
   "metadata": {
    "slideshow": {
     "slide_type": "slide"
    }
   },
   "source": [
    "### Optimization Progress and Results\n",
    "\n",
    "Since in this problem, nonlinear constraints are involved, their convergence can also be plotted"
   ]
  },
  {
   "cell_type": "code",
   "execution_count": null,
   "id": "68a0a7f9",
   "metadata": {
    "tags": [
     "solution"
    ]
   },
   "outputs": [],
   "source": [
    "rosenbrock_optimization_results.x"
   ]
  },
  {
   "cell_type": "code",
   "execution_count": null,
   "id": "19ef35ba",
   "metadata": {
    "tags": [
     "solution"
    ]
   },
   "outputs": [],
   "source": [
    "rosenbrock_optimization_results.plot_convergence('objectives')"
   ]
  },
  {
   "cell_type": "code",
   "execution_count": null,
   "id": "8dc2b5a4",
   "metadata": {
    "tags": [
     "solution"
    ]
   },
   "outputs": [],
   "source": [
    "rosenbrock_optimization_results.plot_convergence('nonlinear_constraints')"
   ]
  },
  {
   "cell_type": "code",
   "execution_count": null,
   "id": "f40bed21",
   "metadata": {
    "tags": [
     "solution"
    ]
   },
   "outputs": [],
   "source": [
    "rosenbrock_optimization_results.plot_objectives()"
   ]
  },
  {
   "cell_type": "markdown",
   "id": "82d846e7",
   "metadata": {
    "slideshow": {
     "slide_type": "slide"
    }
   },
   "source": [
    "### Initial Values\n",
    "\n",
    "To start solving any optimization problem, initial values are required.\n",
    "In CADET-Process, this can be done automatically if\n",
    "- all variables have upper and lower bounds\n",
    "- no linear equality constraints exist (this will be improved in the future!)"
   ]
  },
  {
   "cell_type": "markdown",
   "id": "09f388d0",
   "metadata": {
    "slideshow": {
     "slide_type": "fragment"
    }
   },
   "source": [
    "To create initial values, call `create_initial_values` and specify the number of individuals that should be returned.\n",
    "By default, a random value is returned which fulfills all bound constraints and linear constraints."
   ]
  },
  {
   "cell_type": "code",
   "execution_count": null,
   "id": "676a8dbd",
   "metadata": {},
   "outputs": [],
   "source": [
    "if rosenbrock_problem.n_linear_equality_constraints > 0:\n",
    "    rosenbrock_problem.remove_linear_equality_constraint(0) # just for demonstration purposes"
   ]
  },
  {
   "cell_type": "code",
   "execution_count": null,
   "id": "4741020f",
   "metadata": {},
   "outputs": [],
   "source": [
    "x0 = rosenbrock_problem.create_initial_values(method='chebyshev')\n",
    "print(x0)"
   ]
  },
  {
   "cell_type": "markdown",
   "id": "bb9206b8",
   "metadata": {
    "slideshow": {
     "slide_type": "fragment"
    }
   },
   "source": [
    "By specifying `method='chebyshev'`, the so-called Chebyshev center is returned; the center of a minimal-radius ball enclosed by the convex parameter space.\n",
    "If no information about the location is known, this can be a good starting point."
   ]
  },
  {
   "cell_type": "code",
   "execution_count": null,
   "id": "0446bc68",
   "metadata": {},
   "outputs": [],
   "source": [
    "x0 = rosenbrock_problem.create_initial_values(method='chebyshev')\n",
    "print(x0)"
   ]
  },
  {
   "cell_type": "markdown",
   "id": "cd01dfe1",
   "metadata": {
    "slideshow": {
     "slide_type": "slide"
    }
   },
   "source": [
    "For population based algorithms such as genetic algorithm, an entire population is required.\n",
    "Because efficiently sampling a convex polytope can be difficult, we make use  of [hopsy](https://modsim.github.io/hopsy/index.html), a tool for Markov chain Monte Carlo sampling on convex polytopes."
   ]
  },
  {
   "cell_type": "markdown",
   "id": "59545da6",
   "metadata": {},
   "source": [
    "Let's first create a method to better visualize these points"
   ]
  },
  {
   "cell_type": "code",
   "execution_count": null,
   "id": "679f46a6",
   "metadata": {},
   "outputs": [],
   "source": [
    "def plot_initial_values(x0):\n",
    "    import matplotlib.pyplot as plt\n",
    "    import numpy as np\n",
    "    fig, ax = plt.subplots()\n",
    "    try:\n",
    "        ax.scatter(x0[:, 0], x0[:, 1])\n",
    "        ax.set_xlabel(r'$x_0$')\n",
    "        ax.set_ylabel(r'$x_1$')\n",
    "    except IndexError:\n",
    "        ax.scatter(x0, np.ones_like((x0)))\n",
    "        ax.set_xlabel(r'$x_0$')\n",
    "    fig.tight_layout()\n",
    "\n",
    "x0 = rosenbrock_problem.create_initial_values(500)\n",
    "plot_initial_values(x0)"
   ]
  }
 ],
 "metadata": {
  "kernelspec": {
   "display_name": "Python 3 (ipykernel)",
   "language": "python",
   "name": "python3"
  }
 },
 "nbformat": 4,
 "nbformat_minor": 5
}
