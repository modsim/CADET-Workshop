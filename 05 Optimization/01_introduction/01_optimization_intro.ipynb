{
 "cells": [
  {
   "cell_type": "markdown",
   "id": "423872c7",
   "metadata": {
    "slideshow": {
     "slide_type": "slide"
    }
   },
   "source": [
    "# Optimization\n",
    "\n",
    "One of the main applications of **CADET-Process** is performing optimization studies.\n",
    "Optimization refers to the selection of a solution with regard to some criterion.\n",
    "In the simplest case, an optimization problem consists of minimizing some function $f(x)$ by systematically varying the input values $x$ and computing the value of that function.\n",
    "\n",
    "$$\n",
    "\\min_x f(x)\n",
    "$$"
   ]
  },
  {
   "cell_type": "markdown",
   "id": "b755e340",
   "metadata": {
    "slideshow": {
     "slide_type": "fragment"
    }
   },
   "source": [
    "In the context of physico-chemical processes, examples for the application of optimization studies include scenarios such as process optimization and parameter estimation.\n",
    "Here, often many variables are subject to optimization, multiple criteria have to be balanced, and additional linear and nonlinear constraints need to be considered.\n",
    "\n",
    "$$\n",
    "\\min_x f(x) \\\\\n",
    "s.t. \\\\\n",
    "    g(x) \\le 0, \\\\\n",
    "    h(x) = 0, \\\\\n",
    "    x \\in \\mathbb{R}^n \\\\\n",
    "$$\n",
    "\n",
    "\n",
    "where $g$ summarizes all inequality constraint functions, and $h$ equality constraints."
   ]
  },
  {
   "cell_type": "markdown",
   "id": "72ac7783",
   "metadata": {
    "slideshow": {
     "slide_type": "slide"
    }
   },
   "source": [
    "In the following, the `optimization` module of **CADET-Process** is introduced. To decouple the problem formulation from the problem solution, two classes are provided:\n",
    "- An `OptimizationProblem` class to specify optimization variables, objectives and constraints, and\n",
    "- an abstract `Optimizer` interface which allows using different external optimizers to solve the problem."
   ]
  },
  {
   "cell_type": "markdown",
   "id": "b1e571af",
   "metadata": {
    "slideshow": {
     "slide_type": "slide"
    }
   },
   "source": [
    "## Example 1: Minimization of a quadratic function\n",
    "\n",
    "Usually, the objective function is not known; it can only be evaluated at certain points.\n",
    "For demonstration purpouses, consider a quadratic function to be minimized.\n",
    "\n",
    "$$\n",
    "f(x) = x^2\n",
    "$$"
   ]
  },
  {
   "cell_type": "markdown",
   "id": "9a62b9db",
   "metadata": {},
   "source": [
    "Since we already know a lot about this function, it can help to introduce some of the Optimization concepts of CADET-Process.\n",
    "For example, the results should yield:\n",
    "- $x_{opt} = 0$\n",
    "- $f_{opt} = 0$."
   ]
  },
  {
   "cell_type": "code",
   "execution_count": null,
   "id": "843263e8",
   "metadata": {
    "tags": [
     "solution"
    ]
   },
   "outputs": [],
   "source": []
  },
  {
   "cell_type": "markdown",
   "id": "792cf220",
   "metadata": {
    "slideshow": {
     "slide_type": "slide"
    }
   },
   "source": [
    "### OptimizationProblem\n",
    "\n",
    "The `OptimizationProblem` class is is used to specify optimization variables, objectives and constraints.\n",
    "After import, the `OptimizationProblem` initialized with a name."
   ]
  },
  {
   "cell_type": "code",
   "execution_count": null,
   "id": "b269e398",
   "metadata": {
    "tags": [
     "solution"
    ]
   },
   "outputs": [],
   "source": []
  },
  {
   "cell_type": "markdown",
   "id": "52c5317c",
   "metadata": {
    "slideshow": {
     "slide_type": "fragment"
    }
   },
   "source": [
    "#### Optimization Variables\n",
    "Any number of variables can be added to the `OptimizationProblem`.\n",
    "To add a variable, use the `add_variable` method.\n",
    "In this case, there is only a single variable.\n",
    "The first argument is the name of the variable.\n",
    "Moreover, lower and upper bounds can be specified."
   ]
  },
  {
   "cell_type": "code",
   "execution_count": null,
   "id": "21cded04",
   "metadata": {
    "tags": [
     "solution"
    ]
   },
   "outputs": [],
   "source": []
  },
  {
   "cell_type": "markdown",
   "id": "4d0927f3",
   "metadata": {
    "slideshow": {
     "slide_type": "fragment"
    }
   },
   "source": [
    "The total number of variables is stored in `n_variables` and the names in `variable_names`"
   ]
  },
  {
   "cell_type": "code",
   "execution_count": null,
   "id": "46388247",
   "metadata": {
    "tags": [
     "solution"
    ]
   },
   "outputs": [],
   "source": []
  },
  {
   "cell_type": "markdown",
   "id": "72cc09f5",
   "metadata": {
    "slideshow": {
     "slide_type": "slide"
    }
   },
   "source": [
    "### Objectives\n",
    "Any `callable` (i.e. an object that can be called using the `( )` operator) can be added as an objective as long as it takes x as the first argument.\n",
    "Multi-objective optimization is also possible with CADET-Python (more on that later).\n",
    "For now, the objective must return a single, scalar value.\n",
    "\n",
    "```{note}\n",
    "Usually, there are multiple variables involved. Hence, the function is expected to accept a list.\n",
    "```"
   ]
  },
  {
   "cell_type": "code",
   "execution_count": null,
   "id": "7d5012e6",
   "metadata": {
    "tags": [
     "solution"
    ]
   },
   "outputs": [],
   "source": []
  },
  {
   "cell_type": "markdown",
   "id": "b200667f",
   "metadata": {
    "slideshow": {
     "slide_type": "fragment"
    }
   },
   "source": [
    "To evaluate the this function, the `evaluate_objective` method can be used.\n",
    "This is useful to test whether everything works as expected."
   ]
  },
  {
   "cell_type": "code",
   "execution_count": null,
   "id": "8653a51d",
   "metadata": {
    "tags": [
     "solution"
    ]
   },
   "outputs": [],
   "source": []
  },
  {
   "cell_type": "markdown",
   "id": "414d94b3",
   "metadata": {
    "slideshow": {
     "slide_type": "notes"
    }
   },
   "source": [
    "If the value is out of bounds, an error will be thrown."
   ]
  },
  {
   "cell_type": "markdown",
   "id": "354dcce4",
   "metadata": {
    "slideshow": {
     "slide_type": "slide"
    }
   },
   "source": [
    "### Optimizer\n",
    "The `OptimizerAdapter` provides a unified interface for using external optimization libraries.\n",
    "It is responsible for converting the `OptimizationProblem` to the specific API of the external `Optimizer`.\n",
    "Currently, adapters to **Pymoo** and **Scipy's** optimization suite are implemented, all of which are published under open source licenses that allow for academic as well as commercial use.\n",
    "\n",
    "Before the optimization can be run, the `Optimizer` needs to be initialized and configured.\n",
    "For this example, `U_NSGA3` is used, a genetic algorithm."
   ]
  },
  {
   "cell_type": "code",
   "execution_count": null,
   "id": "2dc1d49a",
   "metadata": {
    "tags": [
     "solution"
    ]
   },
   "outputs": [],
   "source": []
  },
  {
   "cell_type": "markdown",
   "id": "fa053e79",
   "metadata": {
    "slideshow": {
     "slide_type": "fragment"
    }
   },
   "source": [
    "All options can be displayed the following way:"
   ]
  },
  {
   "cell_type": "code",
   "execution_count": null,
   "id": "7555064c",
   "metadata": {
    "tags": [
     "solution"
    ]
   },
   "outputs": [],
   "source": []
  },
  {
   "cell_type": "markdown",
   "id": "09f90348",
   "metadata": {
    "slideshow": {
     "slide_type": "fragment"
    }
   },
   "source": [
    "To reduce the calculation time, let's limit the maximum number of generations that the `Optimizer` evaluates:"
   ]
  },
  {
   "cell_type": "code",
   "execution_count": null,
   "id": "13bb82b0",
   "metadata": {
    "tags": [
     "solution"
    ]
   },
   "outputs": [],
   "source": []
  },
  {
   "cell_type": "markdown",
   "id": "27423995",
   "metadata": {
    "slideshow": {
     "slide_type": "slide"
    }
   },
   "source": [
    "To optimize the `OptimizationProblem`, call the `optimize()` method.\n",
    "By default, CADET-Process tries to autogenerate initial values.\n",
    "However, it's also possible to pass them as an additional `x0` argument.\n",
    "More on generating initial values later."
   ]
  },
  {
   "cell_type": "code",
   "execution_count": null,
   "id": "9c98936e",
   "metadata": {
    "tags": [
     "solution"
    ]
   },
   "outputs": [],
   "source": []
  },
  {
   "cell_type": "markdown",
   "id": "63c917a7",
   "metadata": {
    "slideshow": {
     "slide_type": "slide"
    }
   },
   "source": [
    "### Optimization Progress and Results\n",
    "\n",
    "The `OptimizationResults` which are returned contain information about the progress of the optimization.\n",
    "For example, the attributes `x` and `f` contain the final value(s) of parameters and the objective function."
   ]
  },
  {
   "cell_type": "code",
   "execution_count": null,
   "id": "6c7f8683",
   "metadata": {
    "tags": [
     "solution"
    ]
   },
   "outputs": [],
   "source": []
  },
  {
   "cell_type": "markdown",
   "id": "a994a463",
   "metadata": {
    "slideshow": {
     "slide_type": "slide"
    }
   },
   "source": [
    "After optimization, several figures can be plotted to vizualize the results.\n",
    "For example, the convergence plot shows how the function value changes with the number of evaluations."
   ]
  },
  {
   "cell_type": "code",
   "execution_count": null,
   "id": "de0b9e63",
   "metadata": {
    "tags": [
     "solution"
    ]
   },
   "outputs": [],
   "source": []
  },
  {
   "cell_type": "markdown",
   "id": "d7ce62f0",
   "metadata": {
    "slideshow": {
     "slide_type": "slide"
    }
   },
   "source": [
    "The `plot_objectives` method shows the objective function values of all evaluated individuals.\n",
    "Here, lighter color represent later evaluations.\n",
    "Note that by default the values are plotted on a log scale if they span many orders of magnitude.\n",
    "To disable this, set `autoscale=False`."
   ]
  },
  {
   "cell_type": "code",
   "execution_count": null,
   "id": "b02b3b35",
   "metadata": {
    "tags": [
     "solution"
    ]
   },
   "outputs": [],
   "source": []
  },
  {
   "cell_type": "markdown",
   "id": "5276b00c",
   "metadata": {
    "slideshow": {
     "slide_type": "slide"
    }
   },
   "source": [
    "Note that more figures are created for constrained optimization, as well as multi-objective optimization.\n",
    "All figures are also saved automatically in the `working_directory`.\n",
    "Moreover, results are stored in a `.csv` file.\n",
    "- The `results_all.csv` file contains information about all evaluated individuals.\n",
    "- The `results_last.csv` file contains information about the last generation of evaluated individuals.\n",
    "- The `results_pareto.csv` file contains only the best individual(s)."
   ]
  },
  {
   "cell_type": "markdown",
   "id": "b8d5c1c3",
   "metadata": {
    "slideshow": {
     "slide_type": "slide"
    }
   },
   "source": [
    "## Example 2: Constrained Optimization\n",
    "\n",
    "Example taken from [SciPy Documentation](https://docs.scipy.org/doc/scipy/tutorial/optimize.html#id34)\n",
    "\n",
    "As an example let us consider the constrained minimization of the Rosenbrock function:\n",
    "\n",
    "$$\n",
    "\\min_{x_0, x_1} & ~~100\\left(x_{1}-x_{0}^{2}\\right)^{2}+\\left(1-x_{0}\\right)^{2} &\\\\\n",
    "    \\text{subject to: } & x_0 + 2 x_1 \\leq 1 & \\\\\n",
    "                        & x_0^2 + x_1 \\leq 1  & \\\\\n",
    "                        & x_0^2 - x_1 \\leq 1  & \\\\\n",
    "                        & 2 x_0 + x_1 = 1 & \\\\\n",
    "                        & 0 \\leq  x_0  \\leq 1 & \\\\\n",
    "                        & -0.5 \\leq  x_1  \\leq 2.0. &\n",
    "$$"
   ]
  },
  {
   "cell_type": "markdown",
   "id": "77e90718",
   "metadata": {
    "slideshow": {
     "slide_type": "slide"
    }
   },
   "source": [
    "This optimization problem has the unique solution $[x_0, x_1] = [0.4149,~ 0.1701]$.\n",
    "\n",
    "```{figure} ./figures/rosenbrock.png\n",
    ":align: center\n",
    ":width: 50%\n",
    "\n",
    "```"
   ]
  },
  {
   "cell_type": "markdown",
   "id": "713d9de3",
   "metadata": {
    "slideshow": {
     "slide_type": "slide"
    }
   },
   "source": [
    "To setup this problem, first a new `OptimizationProblem` is created and the variables are added, including bounds.\n",
    "It is important to note, that `x0` cannot be used as variable name since it is reserved for the initial values."
   ]
  },
  {
   "cell_type": "code",
   "execution_count": null,
   "id": "005d3bbd",
   "metadata": {
    "tags": [
     "solution"
    ]
   },
   "outputs": [],
   "source": []
  },
  {
   "cell_type": "markdown",
   "id": "f8b5b671",
   "metadata": {
    "slideshow": {
     "slide_type": "fragment"
    }
   },
   "source": [
    "Then, then objective function is defined and added."
   ]
  },
  {
   "cell_type": "code",
   "execution_count": null,
   "id": "abdd50ab",
   "metadata": {},
   "outputs": [],
   "source": [
    "def rosenbrock_objective(x):\n",
    "    x_0 = x[0]\n",
    "    x_1 = x[1]\n",
    "\n",
    "    return 100 * (x_1 - x_0 ** 2) ** 2 + (1 - x_0) ** 2\n",
    "\n",
    "\n",
    "rosenbrock_problem.add_objective(rosenbrock_objective)"
   ]
  },
  {
   "cell_type": "markdown",
   "id": "62acbeab",
   "metadata": {
    "slideshow": {
     "slide_type": "slide"
    }
   },
   "source": [
    "### Linear inequality constraints\n",
    "Linear constraints are usually defined in the following way\n",
    "\n",
    "$$\n",
    "A \\cdot x \\leq b\n",
    "$$\n",
    "\n",
    "In **CADET-Process**, add each row $a$ of the constraint matrix needs to be added individually.\n",
    "The `add_linear_constraint` function takes the variables subject to the constraint as first argument.\n",
    "The left-hand side $a$ and the bound $b_a$ are passed as second and third argument.\n",
    "It is important to note that the column order in $a$ is inferred from the order in which the optimization variables are passed.\n",
    "\n",
    "To add the constraints of the Rosenbrock function to the optimization problem, add the following:"
   ]
  },
  {
   "cell_type": "code",
   "execution_count": null,
   "id": "2d766cae",
   "metadata": {
    "tags": [
     "solution"
    ]
   },
   "outputs": [],
   "source": []
  },
  {
   "cell_type": "markdown",
   "id": "0553397f",
   "metadata": {
    "slideshow": {
     "slide_type": "slide"
    }
   },
   "source": [
    "To wheck if a point fulfils the linear inequality constraints, use the `check_linear_constraints` method.\n",
    "It returns `True` if the point is within bounds and `False` otherwise."
   ]
  },
  {
   "cell_type": "code",
   "execution_count": null,
   "id": "926862e7",
   "metadata": {
    "tags": [
     "solution"
    ]
   },
   "outputs": [],
   "source": []
  },
  {
   "cell_type": "markdown",
   "id": "9651ceed",
   "metadata": {
    "slideshow": {
     "slide_type": "slide"
    }
   },
   "source": [
    "### Linear equality constraints\n",
    "Linear equality constraints are usually defined in the following way\n",
    "\n",
    "$$\n",
    "A_{eq} \\cdot x = b_{eq}\n",
    "$$\n",
    "\n",
    "In **CADET-Process**, add each row $a_{eq}$ of the constraint matrix needs to be added individually.\n",
    "The `add_linear_equality_constraint` function takes the variables subject to the constraint as first argument.\n",
    "The left-hand side $a_{eq}$ and the bound $b_{eq, a}$ are passed as second and third argument.\n",
    "It is important to note that the column order in $a$ is inferred from the order in which the optimization variables are passed.\n",
    "\n",
    "To add this constraint of the Rosenbrock function\n",
    "\n",
    "$$\n",
    "2 x_0 + x_1 = 1\n",
    "$$\n",
    "\n",
    "to the optimization problem, add the following:"
   ]
  },
  {
   "cell_type": "code",
   "execution_count": null,
   "id": "f5dca892",
   "metadata": {
    "tags": [
     "solution"
    ]
   },
   "outputs": [],
   "source": []
  },
  {
   "cell_type": "markdown",
   "id": "18ac5033",
   "metadata": {
    "slideshow": {
     "slide_type": "slide"
    }
   },
   "source": [
    "To wheck if a point fulfils the linear equality constraints, use the `check_linear_equality_constraints` method.\n",
    "It returns `True` if the point is within bounds and `False` otherwise."
   ]
  },
  {
   "cell_type": "code",
   "execution_count": null,
   "id": "a19959eb",
   "metadata": {
    "tags": [
     "solution"
    ]
   },
   "outputs": [],
   "source": []
  },
  {
   "cell_type": "markdown",
   "id": "5a92c6a5",
   "metadata": {
    "slideshow": {
     "slide_type": "slide"
    }
   },
   "source": [
    "### Nonlinear constraints\n",
    "It is also possible to add nonlinear constraints to the `OptimizationProblem`.\n",
    "\n",
    "$$\n",
    "g(x) \\le 0 \\\\\n",
    "$$\n",
    "\n",
    "In contrast to linear constraints, and analogous to objective functions, nonlinear constraints need to be added as a callable functions.\n",
    "Note that multiple nonlinear constraints can be added.\n",
    "In addition to the function, lower or upper bounds can be added."
   ]
  },
  {
   "cell_type": "markdown",
   "id": "a78c840b",
   "metadata": {
    "slideshow": {
     "slide_type": "slide"
    }
   },
   "source": [
    "To add the constraints of the Rosenbrock function to the optimization problem, add the following."
   ]
  },
  {
   "cell_type": "code",
   "execution_count": null,
   "id": "cad9c69c",
   "metadata": {
    "tags": [
     "solution"
    ]
   },
   "outputs": [],
   "source": []
  },
  {
   "cell_type": "markdown",
   "id": "ee34425f",
   "metadata": {
    "slideshow": {
     "slide_type": "slide"
    }
   },
   "source": [
    "Again, the function can be evaluated manually."
   ]
  },
  {
   "cell_type": "code",
   "execution_count": null,
   "id": "7d8cd0c9",
   "metadata": {
    "tags": [
     "solution"
    ]
   },
   "outputs": [],
   "source": []
  },
  {
   "cell_type": "markdown",
   "id": "7f944bb5",
   "metadata": {
    "slideshow": {
     "slide_type": "slide"
    }
   },
   "source": [
    "### Optimizer\n",
    "To solve this problem, a **trust region method** is used, here:"
   ]
  },
  {
   "cell_type": "code",
   "execution_count": null,
   "id": "9ea359e6",
   "metadata": {
    "tags": [
     "solution"
    ]
   },
   "outputs": [],
   "source": []
  },
  {
   "cell_type": "markdown",
   "id": "550ede56",
   "metadata": {
    "slideshow": {
     "slide_type": "slide"
    }
   },
   "source": [
    "### Optimization Progress and Results\n",
    "\n",
    "Since in this problem, nonlinear constraints are involved, their convergence can also be plotted"
   ]
  },
  {
   "cell_type": "code",
   "execution_count": null,
   "id": "9fcdb870",
   "metadata": {
    "tags": [
     "solution"
    ]
   },
   "outputs": [],
   "source": []
  },
  {
   "cell_type": "code",
   "execution_count": null,
   "id": "f6c02bdc",
   "metadata": {
    "tags": [
     "solution"
    ]
   },
   "outputs": [],
   "source": []
  },
  {
   "cell_type": "code",
   "execution_count": null,
   "id": "c63710c2",
   "metadata": {
    "tags": [
     "solution"
    ]
   },
   "outputs": [],
   "source": []
  },
  {
   "cell_type": "code",
   "execution_count": null,
   "id": "0d0ed5f2",
   "metadata": {
    "tags": [
     "solution"
    ]
   },
   "outputs": [],
   "source": []
  },
  {
   "cell_type": "markdown",
   "id": "a8a866fd",
   "metadata": {
    "slideshow": {
     "slide_type": "slide"
    }
   },
   "source": [
    "### Initial Values\n",
    "\n",
    "To start solving any optimization problem, initial values are required.\n",
    "In CADET-Process, this can be done automatically if\n",
    "- all variables have upper and lower bounds\n",
    "- no linear equality constraints exist (this will be improved in the future!)"
   ]
  },
  {
   "cell_type": "markdown",
   "id": "3b08f35f",
   "metadata": {
    "slideshow": {
     "slide_type": "fragment"
    }
   },
   "source": [
    "To create initial values, call `create_initial_values` and specify the number of individuals that should be returned.\n",
    "By default, a random value is returned which fulfills all bound constraints and linear constraints."
   ]
  },
  {
   "cell_type": "code",
   "execution_count": null,
   "id": "eb6fe9d2",
   "metadata": {},
   "outputs": [],
   "source": [
    "if rosenbrock_problem.n_linear_equality_constraints > 0:\n",
    "    rosenbrock_problem.remove_linear_equality_constraint(0) # just for demonstration purposes"
   ]
  },
  {
   "cell_type": "code",
   "execution_count": null,
   "id": "bb5d00b6",
   "metadata": {},
   "outputs": [],
   "source": [
    "x0 = rosenbrock_problem.create_initial_values(method='chebyshev')\n",
    "print(x0)"
   ]
  },
  {
   "cell_type": "markdown",
   "id": "355ecbec",
   "metadata": {
    "slideshow": {
     "slide_type": "fragment"
    }
   },
   "source": [
    "By specifying `method='chebyshev'`, the so-called Chebyshev center is returned; the center of a minimal-radius ball enclosed by the convex parameter space.\n",
    "If no information about the location is known, this can be a good starting point."
   ]
  },
  {
   "cell_type": "code",
   "execution_count": null,
   "id": "a07d76fc",
   "metadata": {},
   "outputs": [],
   "source": [
    "x0 = rosenbrock_problem.create_initial_values(method='chebyshev')\n",
    "print(x0)"
   ]
  },
  {
   "cell_type": "markdown",
   "id": "acdb0a77",
   "metadata": {
    "slideshow": {
     "slide_type": "slide"
    }
   },
   "source": [
    "For population based algorithms such as genetic algorithm, an entire population is required.\n",
    "Because efficiently sampling a convex polytope can be difficult, we make use  of [hopsy](https://modsim.github.io/hopsy/index.html), a tool for Markov chain Monte Carlo sampling on convex polytopes."
   ]
  },
  {
   "cell_type": "markdown",
   "id": "c6cf8c20",
   "metadata": {},
   "source": [
    "Let's first create a method to better visualize these points"
   ]
  },
  {
   "cell_type": "code",
   "execution_count": null,
   "id": "ab282676",
   "metadata": {},
   "outputs": [],
   "source": [
    "def plot_initial_values(x0):\n",
    "    import matplotlib.pyplot as plt\n",
    "    import numpy as np\n",
    "    fig, ax = plt.subplots()\n",
    "    try:\n",
    "        ax.scatter(x0[:, 0], x0[:, 1])\n",
    "        ax.set_xlabel(r'$x_0$')\n",
    "        ax.set_ylabel(r'$x_1$')\n",
    "    except IndexError:\n",
    "        ax.scatter(x0, np.ones_like((x0)))\n",
    "        ax.set_xlabel(r'$x_0$')\n",
    "    fig.tight_layout()\n",
    "\n",
    "x0 = rosenbrock_problem.create_initial_values(500)\n",
    "plot_initial_values(x0)"
   ]
  }
 ],
 "metadata": {
  "kernelspec": {
   "display_name": "Python 3 (ipykernel)",
   "language": "python",
   "name": "python3"
  }
 },
 "nbformat": 4,
 "nbformat_minor": 5
}
