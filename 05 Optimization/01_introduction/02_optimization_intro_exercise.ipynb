{
 "cells": [
  {
   "cell_type": "markdown",
   "id": "0a92da05",
   "metadata": {},
   "source": [
    "# Optimization - Exercise"
   ]
  },
  {
   "cell_type": "markdown",
   "id": "141d79fe",
   "metadata": {},
   "source": [
    "## Exercise 1: Setup simple optimization problem\n",
    "\n",
    "Solve the following optimization problem.\n",
    "\n",
    "$$\n",
    "f(x) = \\left(x - 2 \\right)^3 - 3 \\cdot \\left( x - 2 \\right) + 1 \\\\\n",
    "s.t. \\\\\n",
    "0.2 \\le x \\le 4.5\n",
    "$$\n",
    "\n",
    "Explore different optimizers, modify their options and start from different initial values."
   ]
  },
  {
   "cell_type": "code",
   "execution_count": null,
   "id": "17436178",
   "metadata": {
    "tags": [
     "solution"
    ]
   },
   "outputs": [],
   "source": []
  },
  {
   "cell_type": "code",
   "execution_count": null,
   "id": "ec83b4f5",
   "metadata": {
    "tags": [
     "solution"
    ]
   },
   "outputs": [],
   "source": []
  },
  {
   "cell_type": "code",
   "execution_count": null,
   "id": "d466adcb",
   "metadata": {
    "tags": [
     "solution"
    ]
   },
   "outputs": [],
   "source": []
  },
  {
   "cell_type": "code",
   "execution_count": null,
   "id": "7e8e24e7",
   "metadata": {},
   "outputs": [],
   "source": [
    "optimizer = TrustConstr()\n",
    "optimizer.n_max_gen = 10\n",
    "\n",
    "optimization_results = optimizer.optimize(optimization_problem, x0=0.5)"
   ]
  },
  {
   "cell_type": "code",
   "execution_count": null,
   "id": "73dbb2d8",
   "metadata": {},
   "outputs": [],
   "source": [
    "optimizer.results.plot_objectives()"
   ]
  }
 ],
 "metadata": {
  "kernelspec": {
   "display_name": "Python 3 (ipykernel)",
   "language": "python",
   "name": "python3"
  }
 },
 "nbformat": 4,
 "nbformat_minor": 5
}
