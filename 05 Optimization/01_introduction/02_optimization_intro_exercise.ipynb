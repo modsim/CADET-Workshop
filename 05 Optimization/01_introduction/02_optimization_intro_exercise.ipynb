{
 "cells": [
  {
   "cell_type": "markdown",
   "id": "f00d431c",
   "metadata": {},
   "source": [
    "# Optimization - Exercise"
   ]
  },
  {
   "cell_type": "markdown",
   "id": "afe5ec9e",
   "metadata": {},
   "source": [
    "## Exercise 1: Setup simple optimization problem\n",
    "\n",
    "Solve the following optimization problem.\n",
    "\n",
    "$$\n",
    "f(x) = \\left(x - 2 \\right)^3 - 3 \\cdot \\left( x - 2 \\right) + 1 \\\\\n",
    "s.t. \\\\\n",
    "0.2 \\le x \\le 4.5\n",
    "$$\n",
    "\n",
    "Explore different optimizers, modify their options and start from different initial values."
   ]
  },
  {
   "cell_type": "code",
   "execution_count": null,
   "id": "7314a522",
   "metadata": {
    "tags": [
     "solution"
    ]
   },
   "outputs": [],
   "source": [
    "from CADETProcess.optimization import OptimizationProblem\n",
    "\n",
    "optimization_problem = OptimizationProblem('constrained_cubic')\n",
    "optimization_problem.add_variable('x', lb=0.2, ub=4.5)\n",
    "\n",
    "def constrained_cubic(x):\n",
    "    \"\"\"\n",
    "    Compute a cubic objective function with a linear constraint.\n",
    "\n",
    "    Parameters\n",
    "    ----------\n",
    "    x : float\n",
    "        The variable for the objective function.\n",
    "\n",
    "    Returns\n",
    "    -------\n",
    "    float\n",
    "        The value of the objective function at.\n",
    "    \"\"\"\n",
    "    obj_val = (x - 2)**3 - 3 * (x - 2) + 1\n",
    "\n",
    "    return obj_val\n",
    "\n",
    "optimization_problem.add_objective(constrained_cubic)"
   ]
  },
  {
   "cell_type": "code",
   "execution_count": null,
   "id": "4fd2adf6",
   "metadata": {
    "tags": [
     "solution"
    ]
   },
   "outputs": [],
   "source": [
    "from CADETProcess.optimization import U_NSGA3, TrustConstr\n",
    "\n",
    "optimizer = U_NSGA3()\n",
    "optimizer.n_max_gen = 10\n",
    "\n",
    "optimization_results = optimizer.optimize(optimization_problem)"
   ]
  },
  {
   "cell_type": "code",
   "execution_count": null,
   "id": "12ddc8ff",
   "metadata": {
    "tags": [
     "solution"
    ]
   },
   "outputs": [],
   "source": [
    "optimizer.results.plot_objectives()"
   ]
  },
  {
   "cell_type": "code",
   "execution_count": null,
   "id": "599822b0",
   "metadata": {},
   "outputs": [],
   "source": [
    "optimizer = TrustConstr()\n",
    "optimizer.n_max_gen = 10\n",
    "\n",
    "optimization_results = optimizer.optimize(optimization_problem, x0=0.5)"
   ]
  },
  {
   "cell_type": "code",
   "execution_count": null,
   "id": "1585a28f",
   "metadata": {},
   "outputs": [],
   "source": [
    "optimizer.results.plot_objectives()"
   ]
  }
 ],
 "metadata": {
  "kernelspec": {
   "display_name": "Python 3 (ipykernel)",
   "language": "python",
   "name": "python3"
  }
 },
 "nbformat": 4,
 "nbformat_minor": 5
}
